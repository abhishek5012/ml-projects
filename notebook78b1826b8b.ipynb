{
 "cells": [
  {
   "cell_type": "code",
   "execution_count": 1,
   "id": "f2eab26b",
   "metadata": {
    "_cell_guid": "b1076dfc-b9ad-4769-8c92-a6c4dae69d19",
    "_uuid": "8f2839f25d086af736a60e9eeb907d3b93b6e0e5",
    "execution": {
     "iopub.execute_input": "2022-09-14T16:53:38.718791Z",
     "iopub.status.busy": "2022-09-14T16:53:38.718153Z",
     "iopub.status.idle": "2022-09-14T16:53:38.741027Z",
     "shell.execute_reply": "2022-09-14T16:53:38.739792Z"
    },
    "papermill": {
     "duration": 0.035367,
     "end_time": "2022-09-14T16:53:38.743816",
     "exception": false,
     "start_time": "2022-09-14T16:53:38.708449",
     "status": "completed"
    },
    "tags": []
   },
   "outputs": [
    {
     "name": "stdout",
     "output_type": "stream",
     "text": [
      "/kaggle/input/indian-ipo-dataset-2010-2021/NIFTY_2010_2021.csv\n",
      "/kaggle/input/indian-ipo-dataset-2010-2021/ipo_2010_2021.csv\n"
     ]
    }
   ],
   "source": [
    "# This Python 3 environment comes with many helpful analytics libraries installed\n",
    "# It is defined by the kaggle/python Docker image: https://github.com/kaggle/docker-python\n",
    "# For example, here's several helpful packages to load\n",
    "\n",
    "import numpy as np # linear algebra\n",
    "import pandas as pd # data processing, CSV file I/O (e.g. pd.read_csv)\n",
    "\n",
    "# Input data files are available in the read-only \"../input/\" directory\n",
    "# For example, running this (by clicking run or pressing Shift+Enter) will list all files under the input directory\n",
    "\n",
    "import os\n",
    "for dirname, _, filenames in os.walk('/kaggle/input'):\n",
    "    for filename in filenames:\n",
    "        print(os.path.join(dirname, filename))\n",
    "\n",
    "# You can write up to 20GB to the current directory (/kaggle/working/) that gets preserved as output when you create a version using \"Save & Run All\" \n",
    "# You can also write temporary files to /kaggle/temp/, but they won't be saved outside of the current session"
   ]
  },
  {
   "cell_type": "code",
   "execution_count": 2,
   "id": "ad0ee855",
   "metadata": {
    "execution": {
     "iopub.execute_input": "2022-09-14T16:53:38.758869Z",
     "iopub.status.busy": "2022-09-14T16:53:38.757918Z",
     "iopub.status.idle": "2022-09-14T16:53:38.803506Z",
     "shell.execute_reply": "2022-09-14T16:53:38.802359Z"
    },
    "papermill": {
     "duration": 0.055586,
     "end_time": "2022-09-14T16:53:38.805834",
     "exception": false,
     "start_time": "2022-09-14T16:53:38.750248",
     "status": "completed"
    },
    "tags": []
   },
   "outputs": [
    {
     "data": {
      "text/html": [
       "<div>\n",
       "<style scoped>\n",
       "    .dataframe tbody tr th:only-of-type {\n",
       "        vertical-align: middle;\n",
       "    }\n",
       "\n",
       "    .dataframe tbody tr th {\n",
       "        vertical-align: top;\n",
       "    }\n",
       "\n",
       "    .dataframe thead th {\n",
       "        text-align: right;\n",
       "    }\n",
       "</style>\n",
       "<table border=\"1\" class=\"dataframe\">\n",
       "  <thead>\n",
       "    <tr style=\"text-align: right;\">\n",
       "      <th></th>\n",
       "      <th>Date</th>\n",
       "      <th>IPO Name</th>\n",
       "      <th>Profile</th>\n",
       "      <th>Issue Size (in crores)</th>\n",
       "      <th>QIB</th>\n",
       "      <th>HNI</th>\n",
       "      <th>RII</th>\n",
       "      <th>Total</th>\n",
       "      <th>Issue</th>\n",
       "      <th>Listing Open</th>\n",
       "      <th>Listing Close</th>\n",
       "      <th>Listing Gains(%)</th>\n",
       "      <th>CMP</th>\n",
       "      <th>Current  Gains (%)</th>\n",
       "    </tr>\n",
       "  </thead>\n",
       "  <tbody>\n",
       "    <tr>\n",
       "      <th>41</th>\n",
       "      <td>30-12-19</td>\n",
       "      <td>Prince Pipes</td>\n",
       "      <td>https://www.moneycontrol.com/ipo/prince-pipes_...</td>\n",
       "      <td>500.00</td>\n",
       "      <td>3.54</td>\n",
       "      <td>1.21</td>\n",
       "      <td>1.89</td>\n",
       "      <td>2.21</td>\n",
       "      <td>178.0</td>\n",
       "      <td>160.0</td>\n",
       "      <td>166.60</td>\n",
       "      <td>-6.40</td>\n",
       "      <td>685.70</td>\n",
       "      <td>285.22</td>\n",
       "    </tr>\n",
       "    <tr>\n",
       "      <th>133</th>\n",
       "      <td>16-11-15</td>\n",
       "      <td>S H Kelkar</td>\n",
       "      <td>https://www.moneycontrol.com/ipo/s-h-kelkar_KC...</td>\n",
       "      <td>200.00</td>\n",
       "      <td>0.00</td>\n",
       "      <td>0.00</td>\n",
       "      <td>0.00</td>\n",
       "      <td>0.00</td>\n",
       "      <td>180.0</td>\n",
       "      <td>216.0</td>\n",
       "      <td>207.30</td>\n",
       "      <td>15.17</td>\n",
       "      <td>169.10</td>\n",
       "      <td>-6.06</td>\n",
       "    </tr>\n",
       "    <tr>\n",
       "      <th>101</th>\n",
       "      <td>05-04-17</td>\n",
       "      <td>Shankara Buildi</td>\n",
       "      <td>https://www.moneycontrol.com/ipo/shankara-buil...</td>\n",
       "      <td>232.96</td>\n",
       "      <td>51.62</td>\n",
       "      <td>90.68</td>\n",
       "      <td>15.35</td>\n",
       "      <td>41.88</td>\n",
       "      <td>460.0</td>\n",
       "      <td>545.0</td>\n",
       "      <td>632.80</td>\n",
       "      <td>37.57</td>\n",
       "      <td>654.25</td>\n",
       "      <td>42.23</td>\n",
       "    </tr>\n",
       "    <tr>\n",
       "      <th>210</th>\n",
       "      <td>04-11-10</td>\n",
       "      <td>Coal India</td>\n",
       "      <td>https://www.moneycontrol.com/ipo/coal-india_CI...</td>\n",
       "      <td>15475.00</td>\n",
       "      <td>24.70</td>\n",
       "      <td>25.40</td>\n",
       "      <td>2.31</td>\n",
       "      <td>15.28</td>\n",
       "      <td>245.0</td>\n",
       "      <td>300.0</td>\n",
       "      <td>342.35</td>\n",
       "      <td>39.73</td>\n",
       "      <td>143.25</td>\n",
       "      <td>-41.53</td>\n",
       "    </tr>\n",
       "    <tr>\n",
       "      <th>216</th>\n",
       "      <td>14-10-10</td>\n",
       "      <td>Sea TV Network</td>\n",
       "      <td>https://www.moneycontrol.com/ipo/sea-tv-networ...</td>\n",
       "      <td>50.20</td>\n",
       "      <td>1.66</td>\n",
       "      <td>40.94</td>\n",
       "      <td>7.45</td>\n",
       "      <td>9.58</td>\n",
       "      <td>100.0</td>\n",
       "      <td>120.0</td>\n",
       "      <td>106.00</td>\n",
       "      <td>6.00</td>\n",
       "      <td>1.98</td>\n",
       "      <td>-98.02</td>\n",
       "    </tr>\n",
       "  </tbody>\n",
       "</table>\n",
       "</div>"
      ],
      "text/plain": [
       "         Date         IPO Name  \\\n",
       "41   30-12-19     Prince Pipes   \n",
       "133  16-11-15       S H Kelkar   \n",
       "101  05-04-17  Shankara Buildi   \n",
       "210  04-11-10       Coal India   \n",
       "216  14-10-10   Sea TV Network   \n",
       "\n",
       "                                               Profile  \\\n",
       "41   https://www.moneycontrol.com/ipo/prince-pipes_...   \n",
       "133  https://www.moneycontrol.com/ipo/s-h-kelkar_KC...   \n",
       "101  https://www.moneycontrol.com/ipo/shankara-buil...   \n",
       "210  https://www.moneycontrol.com/ipo/coal-india_CI...   \n",
       "216  https://www.moneycontrol.com/ipo/sea-tv-networ...   \n",
       "\n",
       "     Issue Size (in crores)    QIB    HNI    RII  Total  Issue  Listing Open  \\\n",
       "41                   500.00   3.54   1.21   1.89   2.21  178.0         160.0   \n",
       "133                  200.00   0.00   0.00   0.00   0.00  180.0         216.0   \n",
       "101                  232.96  51.62  90.68  15.35  41.88  460.0         545.0   \n",
       "210                15475.00  24.70  25.40   2.31  15.28  245.0         300.0   \n",
       "216                   50.20   1.66  40.94   7.45   9.58  100.0         120.0   \n",
       "\n",
       "     Listing Close  Listing Gains(%)     CMP  Current  Gains (%)  \n",
       "41          166.60             -6.40  685.70              285.22  \n",
       "133         207.30             15.17  169.10               -6.06  \n",
       "101         632.80             37.57  654.25               42.23  \n",
       "210         342.35             39.73  143.25              -41.53  \n",
       "216         106.00              6.00    1.98              -98.02  "
      ]
     },
     "execution_count": 2,
     "metadata": {},
     "output_type": "execute_result"
    }
   ],
   "source": [
    "# reading data\n",
    "de=pd.read_csv('/kaggle/input/indian-ipo-dataset-2010-2021/ipo_2010_2021.csv')\n",
    "de.sample(5)"
   ]
  },
  {
   "cell_type": "code",
   "execution_count": 3,
   "id": "75e41f0d",
   "metadata": {
    "execution": {
     "iopub.execute_input": "2022-09-14T16:53:38.821454Z",
     "iopub.status.busy": "2022-09-14T16:53:38.820505Z",
     "iopub.status.idle": "2022-09-14T16:53:38.838548Z",
     "shell.execute_reply": "2022-09-14T16:53:38.837427Z"
    },
    "papermill": {
     "duration": 0.028133,
     "end_time": "2022-09-14T16:53:38.840899",
     "exception": false,
     "start_time": "2022-09-14T16:53:38.812766",
     "status": "completed"
    },
    "tags": []
   },
   "outputs": [
    {
     "data": {
      "text/plain": [
       "0      1\n",
       "1      3\n",
       "2      3\n",
       "3      2\n",
       "4      3\n",
       "      ..\n",
       "259    2\n",
       "260    3\n",
       "261    3\n",
       "262    3\n",
       "263    3\n",
       "Name: target, Length: 264, dtype: int64"
      ]
     },
     "execution_count": 3,
     "metadata": {},
     "output_type": "execute_result"
    }
   ],
   "source": [
    "# performing the eda part\n",
    "\n",
    "de['r']=de['Listing Close']-de['Listing Open']\n",
    "de['r']=de['r'].astype(int)\n",
    "\n",
    "# SO WE USE THE APPLY FUNCTION IN THE COLUMN\n",
    "\n",
    "def fun(x):\n",
    "    if(x>80):\n",
    "        return 1\n",
    "    elif(x>30 & x<80):\n",
    "        return 2\n",
    "    else:\n",
    "        return 3\n",
    "    \n",
    "de['target']=de['r'].apply(fun)\n",
    "de['target']\n",
    "    \n",
    "# target defines the risk in that ipo 1 means less risk \n",
    "#  as 3 means high risk"
   ]
  },
  {
   "cell_type": "code",
   "execution_count": 4,
   "id": "7e1757d8",
   "metadata": {
    "execution": {
     "iopub.execute_input": "2022-09-14T16:53:38.855793Z",
     "iopub.status.busy": "2022-09-14T16:53:38.854969Z",
     "iopub.status.idle": "2022-09-14T16:53:39.931324Z",
     "shell.execute_reply": "2022-09-14T16:53:39.930294Z"
    },
    "papermill": {
     "duration": 1.086379,
     "end_time": "2022-09-14T16:53:39.933741",
     "exception": false,
     "start_time": "2022-09-14T16:53:38.847362",
     "status": "completed"
    },
    "tags": []
   },
   "outputs": [
    {
     "data": {
      "text/plain": [
       "Date                      0\n",
       "IPO Name                  0\n",
       "Profile                   0\n",
       "Issue Size (in crores)    0\n",
       "QIB                       0\n",
       "HNI                       0\n",
       "RII                       0\n",
       "Total                     0\n",
       "Issue                     0\n",
       "Listing Open              0\n",
       "Listing Close             0\n",
       "Listing Gains(%)          0\n",
       "CMP                       0\n",
       "Current  Gains (%)        2\n",
       "r                         0\n",
       "target                    0\n",
       "dtype: int64"
      ]
     },
     "execution_count": 4,
     "metadata": {},
     "output_type": "execute_result"
    }
   ],
   "source": [
    "# FINDING THE IN SITES FROM THE DATA \n",
    "import seaborn as sns\n",
    "import matplotlib.pyplot as plt\n",
    "%matplotlib inline\n",
    "de.isna().sum()"
   ]
  },
  {
   "cell_type": "code",
   "execution_count": 5,
   "id": "3eb90c0a",
   "metadata": {
    "execution": {
     "iopub.execute_input": "2022-09-14T16:53:39.948656Z",
     "iopub.status.busy": "2022-09-14T16:53:39.948264Z",
     "iopub.status.idle": "2022-09-14T16:54:23.832087Z",
     "shell.execute_reply": "2022-09-14T16:54:23.830625Z"
    },
    "papermill": {
     "duration": 43.89499,
     "end_time": "2022-09-14T16:54:23.835175",
     "exception": false,
     "start_time": "2022-09-14T16:53:39.940185",
     "status": "completed"
    },
    "tags": []
   },
   "outputs": [
    {
     "data": {
      "application/vnd.jupyter.widget-view+json": {
       "model_id": "b48cebbbcbf8481a93ffbc121e52a509",
       "version_major": 2,
       "version_minor": 0
      },
      "text/plain": [
       "Summarize dataset:   0%|          | 0/5 [00:00<?, ?it/s]"
      ]
     },
     "metadata": {},
     "output_type": "display_data"
    },
    {
     "data": {
      "application/vnd.jupyter.widget-view+json": {
       "model_id": "7926bb98dabb436a9d7e01d03dce03f0",
       "version_major": 2,
       "version_minor": 0
      },
      "text/plain": [
       "Generate report structure:   0%|          | 0/1 [00:00<?, ?it/s]"
      ]
     },
     "metadata": {},
     "output_type": "display_data"
    },
    {
     "data": {
      "application/vnd.jupyter.widget-view+json": {
       "model_id": "5619eec3f24a4bbb8331cda99686fc61",
       "version_major": 2,
       "version_minor": 0
      },
      "text/plain": [
       "Render HTML:   0%|          | 0/1 [00:00<?, ?it/s]"
      ]
     },
     "metadata": {},
     "output_type": "display_data"
    },
    {
     "data": {
      "application/vnd.jupyter.widget-view+json": {
       "model_id": "ac5e89c9acc243688615b79106659a63",
       "version_major": 2,
       "version_minor": 0
      },
      "text/plain": [
       "Export report to file:   0%|          | 0/1 [00:00<?, ?it/s]"
      ]
     },
     "metadata": {},
     "output_type": "display_data"
    }
   ],
   "source": [
    "from pandas_profiling import ProfileReport\n",
    "gh=ProfileReport(de)\n",
    "gh.to_file(output_file='out.html')"
   ]
  },
  {
   "cell_type": "code",
   "execution_count": 6,
   "id": "7590e549",
   "metadata": {
    "execution": {
     "iopub.execute_input": "2022-09-14T16:54:23.852505Z",
     "iopub.status.busy": "2022-09-14T16:54:23.852078Z",
     "iopub.status.idle": "2022-09-14T16:54:24.008633Z",
     "shell.execute_reply": "2022-09-14T16:54:24.006463Z"
    },
    "papermill": {
     "duration": 0.171719,
     "end_time": "2022-09-14T16:54:24.014455",
     "exception": false,
     "start_time": "2022-09-14T16:54:23.842736",
     "status": "completed"
    },
    "tags": []
   },
   "outputs": [
    {
     "data": {
      "text/plain": [
       "<AxesSubplot:xlabel='RII', ylabel='Density'>"
      ]
     },
     "execution_count": 6,
     "metadata": {},
     "output_type": "execute_result"
    }
   ],
   "source": [
    "sns.kdeplot(de['RII'])"
   ]
  },
  {
   "cell_type": "code",
   "execution_count": 7,
   "id": "8ce335d1",
   "metadata": {
    "execution": {
     "iopub.execute_input": "2022-09-14T16:54:24.039384Z",
     "iopub.status.busy": "2022-09-14T16:54:24.038974Z",
     "iopub.status.idle": "2022-09-14T16:54:24.145388Z",
     "shell.execute_reply": "2022-09-14T16:54:24.144013Z"
    },
    "papermill": {
     "duration": 0.118514,
     "end_time": "2022-09-14T16:54:24.148247",
     "exception": false,
     "start_time": "2022-09-14T16:54:24.029733",
     "status": "completed"
    },
    "tags": []
   },
   "outputs": [
    {
     "name": "stderr",
     "output_type": "stream",
     "text": [
      "/opt/conda/lib/python3.7/site-packages/seaborn/_decorators.py:43: FutureWarning: Pass the following variables as keyword args: x, y. From version 0.12, the only valid positional argument will be `data`, and passing other arguments without an explicit keyword will result in an error or misinterpretation.\n",
      "  FutureWarning\n"
     ]
    },
    {
     "data": {
      "text/plain": [
       "<AxesSubplot:xlabel='RII', ylabel='Density'>"
      ]
     },
     "execution_count": 7,
     "metadata": {},
     "output_type": "execute_result"
    }
   ],
   "source": [
    "sns.scatterplot('QIB','HNI',data=de,hue='target')"
   ]
  },
  {
   "cell_type": "code",
   "execution_count": 8,
   "id": "e01fcbd2",
   "metadata": {
    "execution": {
     "iopub.execute_input": "2022-09-14T16:54:24.165889Z",
     "iopub.status.busy": "2022-09-14T16:54:24.165232Z",
     "iopub.status.idle": "2022-09-14T16:54:24.259641Z",
     "shell.execute_reply": "2022-09-14T16:54:24.258434Z"
    },
    "papermill": {
     "duration": 0.106336,
     "end_time": "2022-09-14T16:54:24.262463",
     "exception": false,
     "start_time": "2022-09-14T16:54:24.156127",
     "status": "completed"
    },
    "tags": []
   },
   "outputs": [
    {
     "data": {
      "text/plain": [
       "<AxesSubplot:xlabel='RII', ylabel='Density'>"
      ]
     },
     "execution_count": 8,
     "metadata": {},
     "output_type": "execute_result"
    }
   ],
   "source": [
    "sns.scatterplot(y='Issue Size (in crores)',x='Listing Open',data=de)"
   ]
  },
  {
   "cell_type": "code",
   "execution_count": 9,
   "id": "5c6b032c",
   "metadata": {
    "execution": {
     "iopub.execute_input": "2022-09-14T16:54:24.281122Z",
     "iopub.status.busy": "2022-09-14T16:54:24.280708Z",
     "iopub.status.idle": "2022-09-14T16:54:51.481507Z",
     "shell.execute_reply": "2022-09-14T16:54:51.480107Z"
    },
    "papermill": {
     "duration": 27.214505,
     "end_time": "2022-09-14T16:54:51.485013",
     "exception": false,
     "start_time": "2022-09-14T16:54:24.270508",
     "status": "completed"
    },
    "tags": []
   },
   "outputs": [
    {
     "data": {
      "text/plain": [
       "<seaborn.axisgrid.PairGrid at 0x7f9cd87dbd90>"
      ]
     },
     "execution_count": 9,
     "metadata": {},
     "output_type": "execute_result"
    }
   ],
   "source": [
    "sns.pairplot(data=de,hue='target')"
   ]
  },
  {
   "cell_type": "code",
   "execution_count": 10,
   "id": "dc880dce",
   "metadata": {
    "execution": {
     "iopub.execute_input": "2022-09-14T16:54:51.503817Z",
     "iopub.status.busy": "2022-09-14T16:54:51.503222Z",
     "iopub.status.idle": "2022-09-14T16:54:53.747910Z",
     "shell.execute_reply": "2022-09-14T16:54:53.746617Z"
    },
    "papermill": {
     "duration": 2.256788,
     "end_time": "2022-09-14T16:54:53.750611",
     "exception": false,
     "start_time": "2022-09-14T16:54:51.493823",
     "status": "completed"
    },
    "tags": []
   },
   "outputs": [
    {
     "data": {
      "text/html": [
       "        <script type=\"text/javascript\">\n",
       "        window.PlotlyConfig = {MathJaxConfig: 'local'};\n",
       "        if (window.MathJax && window.MathJax.Hub && window.MathJax.Hub.Config) {window.MathJax.Hub.Config({SVG: {font: \"STIX-Web\"}});}\n",
       "        if (typeof require !== 'undefined') {\n",
       "        require.undef(\"plotly\");\n",
       "        requirejs.config({\n",
       "            paths: {\n",
       "                'plotly': ['https://cdn.plot.ly/plotly-2.14.0.min']\n",
       "            }\n",
       "        });\n",
       "        require(['plotly'], function(Plotly) {\n",
       "            window._Plotly = Plotly;\n",
       "        });\n",
       "        }\n",
       "        </script>\n",
       "        "
      ]
     },
     "metadata": {},
     "output_type": "display_data"
    },
    {
     "data": {
      "text/html": [
       "<div>                            <div id=\"901b8e4e-4f9a-473b-a2e6-b96dccc92550\" class=\"plotly-graph-div\" style=\"height:525px; width:100%;\"></div>            <script type=\"text/javascript\">                require([\"plotly\"], function(Plotly) {                    window.PLOTLYENV=window.PLOTLYENV || {};                                    if (document.getElementById(\"901b8e4e-4f9a-473b-a2e6-b96dccc92550\")) {                    Plotly.newPlot(                        \"901b8e4e-4f9a-473b-a2e6-b96dccc92550\",                        [{\"hovertemplate\":\"Listing Open=%{x}<br>Listing Close=%{y}<br>Issue Size (in crores)=%{z}<br>target=%{marker.color}<extra></extra>\",\"legendgroup\":\"\",\"marker\":{\"color\":[1,3,3,2,3,1,2,3,2,3,3,1,3,2,2,3,3,3,3,1,3,3,2,3,3,1,3,3,1,2,1,2,3,3,3,3,3,3,3,2,2,3,3,2,1,2,1,3,3,3,3,2,3,3,2,2,3,3,2,3,2,3,3,3,3,3,3,1,2,3,3,3,2,3,2,3,3,3,3,3,3,3,3,3,3,3,3,2,2,2,3,3,3,2,2,3,2,3,2,3,3,1,2,2,3,3,3,1,3,3,2,3,3,3,3,3,3,2,3,3,2,3,2,3,3,3,3,3,1,3,2,1,2,3,3,3,2,3,3,3,3,3,3,3,3,3,3,2,2,2,3,3,3,3,2,3,2,3,3,3,3,3,3,2,3,3,3,3,3,3,3,3,2,3,3,3,1,3,2,3,3,3,3,3,3,2,2,2,3,1,2,3,3,3,3,3,3,3,3,2,3,3,3,3,3,3,3,3,3,3,2,3,3,3,3,3,3,2,3,3,3,3,3,3,3,3,1,3,3,3,3,3,3,2,2,2,3,3,3,3,3,3,3,3,3,2,3,3,3,3,3,3,3,2,1,3,2,3,3,2,3,3,3,3],\"coloraxis\":\"coloraxis\",\"symbol\":\"circle\"},\"mode\":\"markers\",\"name\":\"\",\"scene\":\"scene\",\"showlegend\":false,\"x\":[2111.8,115.0,1784.4,1700.0,360.0,1009.0,550.0,380.0,302.4,104.0,439.0,492.0,1971.0,274.75,73.9,173.0,1440.0,534.7,182.0,990.05,900.0,109.0,634.95,498.0,612.15,2607.5,25.0,430.0,501.0,115.35,1710.0,31.0,476.2,216.25,275.0,1535.0,731.0,708.0,351.0,670.0,658.0,160.0,58.75,275.0,644.0,700.0,1180.0,251.0,960.0,19.0,300.0,111.0,291.0,56.0,758.0,393.0,715.0,190.0,815.0,600.6,435.0,93.1,1159.0,485.0,360.0,270.0,182.0,1525.0,1175.0,256.0,478.0,120.75,674.0,237.0,313.0,727.0,425.0,289.0,870.4,1500.0,615.0,1250.0,735.0,651.0,360.0,985.0,2725.0,205.0,202.0,461.0,875.0,259.45,544.0,170.0,250.0,612.0,257.7,99.7,195.0,76.5,675.85,545.0,398.0,604.0,413.0,1085.0,489.9,860.0,430.0,860.0,572.0,190.0,329.0,252.0,900.0,274.4,275.0,240.0,1210.0,667.0,500.0,540.0,230.0,231.9,662.0,145.1,47.25,305.0,860.0,165.0,291.0,717.0,1380.0,216.0,868.0,313.0,113.0,111.0,60.05,177.95,152.0,600.0,295.0,291.0,381.0,600.0,63.0,288.0,400.0,167.95,181.0,585.0,180.0,254.1,75.0,164.75,590.0,159.95,200.0,137.0,940.0,242.0,55.8,153.0,115.0,86.05,100.0,29.95,1387.0,76.0,33.45,180.0,155.0,157.4,115.0,145.0,200.0,55.0,251.6,110.0,132.8,53.85,119.0,84.0,115.0,10.1,81.25,72.0,43.95,218.0,88.0,110.0,30.0,9.5,35.0,176.45,78.35,28.0,261.5,74.0,80.0,130.0,95.0,111.0,146.1,390.0,224.4,551.0,75.0,218.75,300.0,251.0,76.6,190.0,280.0,122.8,120.0,114.4,333.55,1655.0,133.8,399.4,11.15,45.7,450.0,213.55,461.0,135.1,53.95,29.75,56.25,118.55,730.0,1036.0,127.7,177.95,265.0,76.0,98.0,27.1,131.0,75.0,50.0,138.0,130.0,140.0,258.85,400.0,120.0,287.0,135.0,77.0,335.0,92.8,640.0,246.0,452.1,46.0,225.0,70.0,155.9,88.0,160.0,178.35],\"y\":[2310.25,125.85,1585.2,1746.8,335.45,1096.8,609.1,375.85,362.85,102.98,463.15,590.4,1576.8,276.2,75.3,164.6,1433.0,525.9,208.3,1082.25,812.25,121.4,666.65,445.95,527.4,3118.65,24.85,407.25,595.55,138.4,1820.45,32.75,476.6,173.0,275.85,1401.6,584.8,651.1,371.0,742.35,683.2,166.6,55.9,300.1,728.6,725.35,1302.55,263.55,959.55,19.05,314.1,114.2,290.4,58.8,773.15,420.8,657.8,170.16,822.8,585.5,444.9,90.0,1128.35,477.2,390.7,270.05,179.85,1698.1,1237.25,253.0,454.1,119.7,685.8,239.25,344.25,688.5,429.15,284.0,435.2,162.65,595.55,1178.3,708.0,681.55,342.4,901.2,578.56,208.15,209.85,522.0,378.35,272.1,541.2,171.65,261.6,601.05,263.3,95.08,208.95,72.5,675.85,632.8,417.9,640.75,59.7,1069.2,96.1,1032.0,205.29,890.6,647.7,189.05,297.65,233.45,865.1,299.3,295.0,251.95,235.66,697.65,503.0,519.9,247.8,231.6,618.1,135.25,45.4,254.45,1021.95,177.25,336.7,824.15,1381.45,207.3,878.45,270.15,116.35,106.15,63.0,157.5,166.4,585.75,155.2,163.43,72.04,598.8,60.95,293.3,438.0,191.25,171.95,566.4,171.0,231.45,78.75,157.6,611.45,160.85,191.2,74.5,923.95,229.95,1.57,160.65,111.2,90.35,6.47,28.5,1297.05,23.0,17.75,31.76,166.4,58.15,145.9,22.95,411.65,16.83,274.8,50.2,116.55,46.46,5.2,30.95,13.29,25.35,104.49,91.2,28.5,311.25,111.75,93.6,19.0,8.3,26.65,176.25,23.8,24.9,249.2,113.1,14.09,98.45,46.2,55.43,127.05,328.9,205.85,233.25,68.95,42.08,342.35,18.93,8.16,192.55,282.95,112.25,106.0,180.8,73.33,341.88,104.75,407.85,11.25,44.9,387.35,190.05,632.35,110.9,36.65,23.7,54.05,18.8,151.65,1088.58,199.1,189.2,295.65,64.8,91.3,25.05,133.65,56.9,50.95,162.6,12.79,159.35,163.25,204.0,89.29,253.68,108.55,68.8,69.65,137.25,736.3,41.56,455.4,28.65,24.46,71.1,146.38,87.85,114.5,184.51],\"z\":[500.0,9375.0,1546.0,963.28,800.0,2146.0,521.0,909.0,5550.0,7734.99,2500.0,453.6,582.91,582.34,1175.0,600.0,823.7,760.0,510.0,596.41,60.0,819.24,100.0,412.63,1153.72,1170.56,4633.0,300.53,540.54,796.5,6479.55,517.6,2159.88,443.69,600.0,2244.33,318.0,600.0,702.02,496.25,10286.2,500.0,750.0,409.68,635.04,3125.0,474.12,131.48,1200.18,430.88,4750.0,213.81,1628.84,23.0,1729.2,1126.44,1121.98,453.6,597.87,1844.0,4016.0,438.38,4229.0,4473.0,960.94,457.7,980.14,937.09,600.0,424.62,156.0,70.0,649.69,504.8,8695.01,493.06,829.36,1542.0,11372.0,1000.7,1157.31,481.94,8400.0,5700.94,400.0,501.07,599.28,600.65,152.25,1454.0,362.25,35.87,1912.51,484.8,523.99,1741.1,326.69,2250.0,211.68,1224.0,325.0,232.96,238.95,1870.0,488.53,1243.0,560.7,178.5,1114.0,3000.0,1161.0,361.0,6057.0,130.41,900.0,1100.0,215.0,430.0,60.0,1242.0,400.0,1039.64,764.3,358.16,479.21,2159.0,70.0,450.0,273.68,410.0,613.0,638.0,1349.6,200.0,3000.0,1150.0,300.0,425.0,70.0,156.19,600.0,273.22,550.0,400.0,488.0,600.0,324.0,473.88,700.0,467.0,240.0,342.28,120.0,352.0,197.4,181.25,950.0,270.38,4533.6,609.3,539.98,0.0,55.0,181.96,210.0,99.0,127.2,25.0,663.31,33.6,49.0,93.0,104.63,82.5,36.85,60.0,120.65,227.5,227.0,63.0,112.06,1245.0,81.9,55.1,34.75,65.18,40.64,23.25,25.75,120.0,36.9,219.58,60.0,750.0,45.83,901.25,55.88,438.76,93.28,69.98,30.32,170.0,79.38,165.0,480.0,675.0,300.0,1260.0,48.75,45.0,15475.0,197.36,54.67,1200.0,1028.61,172.41,50.2,91.8,225.0,472.6,105.0,268.03,0.0,900.0,530.0,350.0,115.0,147.5,51.5,357.0,500.0,68.75,297.0,1653.97,53.1,270.0,71.76,200.0,1650.0,1079.0,107.9,63.75,405.0,77.44,145.0,53.65,385.29,168.01,116.6,700.0,128.38,330.0,142.0,45.0,103.0,735.4,1500.0,43.08,150.0,0.0,199.8,56.25,328.7,189.8],\"type\":\"scatter3d\"}],                        {\"template\":{\"data\":{\"histogram2dcontour\":[{\"type\":\"histogram2dcontour\",\"colorbar\":{\"outlinewidth\":0,\"ticks\":\"\"},\"colorscale\":[[0.0,\"#0d0887\"],[0.1111111111111111,\"#46039f\"],[0.2222222222222222,\"#7201a8\"],[0.3333333333333333,\"#9c179e\"],[0.4444444444444444,\"#bd3786\"],[0.5555555555555556,\"#d8576b\"],[0.6666666666666666,\"#ed7953\"],[0.7777777777777778,\"#fb9f3a\"],[0.8888888888888888,\"#fdca26\"],[1.0,\"#f0f921\"]]}],\"choropleth\":[{\"type\":\"choropleth\",\"colorbar\":{\"outlinewidth\":0,\"ticks\":\"\"}}],\"histogram2d\":[{\"type\":\"histogram2d\",\"colorbar\":{\"outlinewidth\":0,\"ticks\":\"\"},\"colorscale\":[[0.0,\"#0d0887\"],[0.1111111111111111,\"#46039f\"],[0.2222222222222222,\"#7201a8\"],[0.3333333333333333,\"#9c179e\"],[0.4444444444444444,\"#bd3786\"],[0.5555555555555556,\"#d8576b\"],[0.6666666666666666,\"#ed7953\"],[0.7777777777777778,\"#fb9f3a\"],[0.8888888888888888,\"#fdca26\"],[1.0,\"#f0f921\"]]}],\"heatmap\":[{\"type\":\"heatmap\",\"colorbar\":{\"outlinewidth\":0,\"ticks\":\"\"},\"colorscale\":[[0.0,\"#0d0887\"],[0.1111111111111111,\"#46039f\"],[0.2222222222222222,\"#7201a8\"],[0.3333333333333333,\"#9c179e\"],[0.4444444444444444,\"#bd3786\"],[0.5555555555555556,\"#d8576b\"],[0.6666666666666666,\"#ed7953\"],[0.7777777777777778,\"#fb9f3a\"],[0.8888888888888888,\"#fdca26\"],[1.0,\"#f0f921\"]]}],\"heatmapgl\":[{\"type\":\"heatmapgl\",\"colorbar\":{\"outlinewidth\":0,\"ticks\":\"\"},\"colorscale\":[[0.0,\"#0d0887\"],[0.1111111111111111,\"#46039f\"],[0.2222222222222222,\"#7201a8\"],[0.3333333333333333,\"#9c179e\"],[0.4444444444444444,\"#bd3786\"],[0.5555555555555556,\"#d8576b\"],[0.6666666666666666,\"#ed7953\"],[0.7777777777777778,\"#fb9f3a\"],[0.8888888888888888,\"#fdca26\"],[1.0,\"#f0f921\"]]}],\"contourcarpet\":[{\"type\":\"contourcarpet\",\"colorbar\":{\"outlinewidth\":0,\"ticks\":\"\"}}],\"contour\":[{\"type\":\"contour\",\"colorbar\":{\"outlinewidth\":0,\"ticks\":\"\"},\"colorscale\":[[0.0,\"#0d0887\"],[0.1111111111111111,\"#46039f\"],[0.2222222222222222,\"#7201a8\"],[0.3333333333333333,\"#9c179e\"],[0.4444444444444444,\"#bd3786\"],[0.5555555555555556,\"#d8576b\"],[0.6666666666666666,\"#ed7953\"],[0.7777777777777778,\"#fb9f3a\"],[0.8888888888888888,\"#fdca26\"],[1.0,\"#f0f921\"]]}],\"surface\":[{\"type\":\"surface\",\"colorbar\":{\"outlinewidth\":0,\"ticks\":\"\"},\"colorscale\":[[0.0,\"#0d0887\"],[0.1111111111111111,\"#46039f\"],[0.2222222222222222,\"#7201a8\"],[0.3333333333333333,\"#9c179e\"],[0.4444444444444444,\"#bd3786\"],[0.5555555555555556,\"#d8576b\"],[0.6666666666666666,\"#ed7953\"],[0.7777777777777778,\"#fb9f3a\"],[0.8888888888888888,\"#fdca26\"],[1.0,\"#f0f921\"]]}],\"mesh3d\":[{\"type\":\"mesh3d\",\"colorbar\":{\"outlinewidth\":0,\"ticks\":\"\"}}],\"scatter\":[{\"fillpattern\":{\"fillmode\":\"overlay\",\"size\":10,\"solidity\":0.2},\"type\":\"scatter\"}],\"parcoords\":[{\"type\":\"parcoords\",\"line\":{\"colorbar\":{\"outlinewidth\":0,\"ticks\":\"\"}}}],\"scatterpolargl\":[{\"type\":\"scatterpolargl\",\"marker\":{\"colorbar\":{\"outlinewidth\":0,\"ticks\":\"\"}}}],\"bar\":[{\"error_x\":{\"color\":\"#2a3f5f\"},\"error_y\":{\"color\":\"#2a3f5f\"},\"marker\":{\"line\":{\"color\":\"#E5ECF6\",\"width\":0.5},\"pattern\":{\"fillmode\":\"overlay\",\"size\":10,\"solidity\":0.2}},\"type\":\"bar\"}],\"scattergeo\":[{\"type\":\"scattergeo\",\"marker\":{\"colorbar\":{\"outlinewidth\":0,\"ticks\":\"\"}}}],\"scatterpolar\":[{\"type\":\"scatterpolar\",\"marker\":{\"colorbar\":{\"outlinewidth\":0,\"ticks\":\"\"}}}],\"histogram\":[{\"marker\":{\"pattern\":{\"fillmode\":\"overlay\",\"size\":10,\"solidity\":0.2}},\"type\":\"histogram\"}],\"scattergl\":[{\"type\":\"scattergl\",\"marker\":{\"colorbar\":{\"outlinewidth\":0,\"ticks\":\"\"}}}],\"scatter3d\":[{\"type\":\"scatter3d\",\"line\":{\"colorbar\":{\"outlinewidth\":0,\"ticks\":\"\"}},\"marker\":{\"colorbar\":{\"outlinewidth\":0,\"ticks\":\"\"}}}],\"scattermapbox\":[{\"type\":\"scattermapbox\",\"marker\":{\"colorbar\":{\"outlinewidth\":0,\"ticks\":\"\"}}}],\"scatterternary\":[{\"type\":\"scatterternary\",\"marker\":{\"colorbar\":{\"outlinewidth\":0,\"ticks\":\"\"}}}],\"scattercarpet\":[{\"type\":\"scattercarpet\",\"marker\":{\"colorbar\":{\"outlinewidth\":0,\"ticks\":\"\"}}}],\"carpet\":[{\"aaxis\":{\"endlinecolor\":\"#2a3f5f\",\"gridcolor\":\"white\",\"linecolor\":\"white\",\"minorgridcolor\":\"white\",\"startlinecolor\":\"#2a3f5f\"},\"baxis\":{\"endlinecolor\":\"#2a3f5f\",\"gridcolor\":\"white\",\"linecolor\":\"white\",\"minorgridcolor\":\"white\",\"startlinecolor\":\"#2a3f5f\"},\"type\":\"carpet\"}],\"table\":[{\"cells\":{\"fill\":{\"color\":\"#EBF0F8\"},\"line\":{\"color\":\"white\"}},\"header\":{\"fill\":{\"color\":\"#C8D4E3\"},\"line\":{\"color\":\"white\"}},\"type\":\"table\"}],\"barpolar\":[{\"marker\":{\"line\":{\"color\":\"#E5ECF6\",\"width\":0.5},\"pattern\":{\"fillmode\":\"overlay\",\"size\":10,\"solidity\":0.2}},\"type\":\"barpolar\"}],\"pie\":[{\"automargin\":true,\"type\":\"pie\"}]},\"layout\":{\"autotypenumbers\":\"strict\",\"colorway\":[\"#636efa\",\"#EF553B\",\"#00cc96\",\"#ab63fa\",\"#FFA15A\",\"#19d3f3\",\"#FF6692\",\"#B6E880\",\"#FF97FF\",\"#FECB52\"],\"font\":{\"color\":\"#2a3f5f\"},\"hovermode\":\"closest\",\"hoverlabel\":{\"align\":\"left\"},\"paper_bgcolor\":\"white\",\"plot_bgcolor\":\"#E5ECF6\",\"polar\":{\"bgcolor\":\"#E5ECF6\",\"angularaxis\":{\"gridcolor\":\"white\",\"linecolor\":\"white\",\"ticks\":\"\"},\"radialaxis\":{\"gridcolor\":\"white\",\"linecolor\":\"white\",\"ticks\":\"\"}},\"ternary\":{\"bgcolor\":\"#E5ECF6\",\"aaxis\":{\"gridcolor\":\"white\",\"linecolor\":\"white\",\"ticks\":\"\"},\"baxis\":{\"gridcolor\":\"white\",\"linecolor\":\"white\",\"ticks\":\"\"},\"caxis\":{\"gridcolor\":\"white\",\"linecolor\":\"white\",\"ticks\":\"\"}},\"coloraxis\":{\"colorbar\":{\"outlinewidth\":0,\"ticks\":\"\"}},\"colorscale\":{\"sequential\":[[0.0,\"#0d0887\"],[0.1111111111111111,\"#46039f\"],[0.2222222222222222,\"#7201a8\"],[0.3333333333333333,\"#9c179e\"],[0.4444444444444444,\"#bd3786\"],[0.5555555555555556,\"#d8576b\"],[0.6666666666666666,\"#ed7953\"],[0.7777777777777778,\"#fb9f3a\"],[0.8888888888888888,\"#fdca26\"],[1.0,\"#f0f921\"]],\"sequentialminus\":[[0.0,\"#0d0887\"],[0.1111111111111111,\"#46039f\"],[0.2222222222222222,\"#7201a8\"],[0.3333333333333333,\"#9c179e\"],[0.4444444444444444,\"#bd3786\"],[0.5555555555555556,\"#d8576b\"],[0.6666666666666666,\"#ed7953\"],[0.7777777777777778,\"#fb9f3a\"],[0.8888888888888888,\"#fdca26\"],[1.0,\"#f0f921\"]],\"diverging\":[[0,\"#8e0152\"],[0.1,\"#c51b7d\"],[0.2,\"#de77ae\"],[0.3,\"#f1b6da\"],[0.4,\"#fde0ef\"],[0.5,\"#f7f7f7\"],[0.6,\"#e6f5d0\"],[0.7,\"#b8e186\"],[0.8,\"#7fbc41\"],[0.9,\"#4d9221\"],[1,\"#276419\"]]},\"xaxis\":{\"gridcolor\":\"white\",\"linecolor\":\"white\",\"ticks\":\"\",\"title\":{\"standoff\":15},\"zerolinecolor\":\"white\",\"automargin\":true,\"zerolinewidth\":2},\"yaxis\":{\"gridcolor\":\"white\",\"linecolor\":\"white\",\"ticks\":\"\",\"title\":{\"standoff\":15},\"zerolinecolor\":\"white\",\"automargin\":true,\"zerolinewidth\":2},\"scene\":{\"xaxis\":{\"backgroundcolor\":\"#E5ECF6\",\"gridcolor\":\"white\",\"linecolor\":\"white\",\"showbackground\":true,\"ticks\":\"\",\"zerolinecolor\":\"white\",\"gridwidth\":2},\"yaxis\":{\"backgroundcolor\":\"#E5ECF6\",\"gridcolor\":\"white\",\"linecolor\":\"white\",\"showbackground\":true,\"ticks\":\"\",\"zerolinecolor\":\"white\",\"gridwidth\":2},\"zaxis\":{\"backgroundcolor\":\"#E5ECF6\",\"gridcolor\":\"white\",\"linecolor\":\"white\",\"showbackground\":true,\"ticks\":\"\",\"zerolinecolor\":\"white\",\"gridwidth\":2}},\"shapedefaults\":{\"line\":{\"color\":\"#2a3f5f\"}},\"annotationdefaults\":{\"arrowcolor\":\"#2a3f5f\",\"arrowhead\":0,\"arrowwidth\":1},\"geo\":{\"bgcolor\":\"white\",\"landcolor\":\"#E5ECF6\",\"subunitcolor\":\"white\",\"showland\":true,\"showlakes\":true,\"lakecolor\":\"white\"},\"title\":{\"x\":0.05},\"mapbox\":{\"style\":\"light\"}}},\"scene\":{\"domain\":{\"x\":[0.0,1.0],\"y\":[0.0,1.0]},\"xaxis\":{\"title\":{\"text\":\"Listing Open\"}},\"yaxis\":{\"title\":{\"text\":\"Listing Close\"}},\"zaxis\":{\"title\":{\"text\":\"Issue Size (in crores)\"}}},\"coloraxis\":{\"colorbar\":{\"title\":{\"text\":\"target\"}},\"colorscale\":[[0.0,\"#0d0887\"],[0.1111111111111111,\"#46039f\"],[0.2222222222222222,\"#7201a8\"],[0.3333333333333333,\"#9c179e\"],[0.4444444444444444,\"#bd3786\"],[0.5555555555555556,\"#d8576b\"],[0.6666666666666666,\"#ed7953\"],[0.7777777777777778,\"#fb9f3a\"],[0.8888888888888888,\"#fdca26\"],[1.0,\"#f0f921\"]]},\"legend\":{\"tracegroupgap\":0},\"margin\":{\"t\":60}},                        {\"responsive\": true}                    ).then(function(){\n",
       "                            \n",
       "var gd = document.getElementById('901b8e4e-4f9a-473b-a2e6-b96dccc92550');\n",
       "var x = new MutationObserver(function (mutations, observer) {{\n",
       "        var display = window.getComputedStyle(gd).display;\n",
       "        if (!display || display === 'none') {{\n",
       "            console.log([gd, 'removed!']);\n",
       "            Plotly.purge(gd);\n",
       "            observer.disconnect();\n",
       "        }}\n",
       "}});\n",
       "\n",
       "// Listen for the removal of the full notebook cells\n",
       "var notebookContainer = gd.closest('#notebook-container');\n",
       "if (notebookContainer) {{\n",
       "    x.observe(notebookContainer, {childList: true});\n",
       "}}\n",
       "\n",
       "// Listen for the clearing of the current output cell\n",
       "var outputEl = gd.closest('.output');\n",
       "if (outputEl) {{\n",
       "    x.observe(outputEl, {childList: true});\n",
       "}}\n",
       "\n",
       "                        })                };                });            </script>        </div>"
      ]
     },
     "metadata": {},
     "output_type": "display_data"
    }
   ],
   "source": [
    "import plotly.express as px\n",
    "\n",
    "fig = px.scatter_3d(de, x='Listing Open', y='Listing Close', z='Issue Size (in crores)',\n",
    "              color='target')\n",
    "fig.show()"
   ]
  },
  {
   "cell_type": "code",
   "execution_count": 11,
   "id": "8a0b35c9",
   "metadata": {
    "execution": {
     "iopub.execute_input": "2022-09-14T16:54:53.769653Z",
     "iopub.status.busy": "2022-09-14T16:54:53.768741Z",
     "iopub.status.idle": "2022-09-14T16:54:53.833136Z",
     "shell.execute_reply": "2022-09-14T16:54:53.831981Z"
    },
    "papermill": {
     "duration": 0.076577,
     "end_time": "2022-09-14T16:54:53.835764",
     "exception": false,
     "start_time": "2022-09-14T16:54:53.759187",
     "status": "completed"
    },
    "tags": []
   },
   "outputs": [
    {
     "data": {
      "text/html": [
       "<div>                            <div id=\"5f0c5480-6e57-4169-9460-71a31d82688c\" class=\"plotly-graph-div\" style=\"height:525px; width:100%;\"></div>            <script type=\"text/javascript\">                require([\"plotly\"], function(Plotly) {                    window.PLOTLYENV=window.PLOTLYENV || {};                                    if (document.getElementById(\"5f0c5480-6e57-4169-9460-71a31d82688c\")) {                    Plotly.newPlot(                        \"5f0c5480-6e57-4169-9460-71a31d82688c\",                        [{\"hovertemplate\":\"QIB=%{x}<br>HNI=%{y}<br>RII=%{z}<br>target=%{marker.color}<extra></extra>\",\"legendgroup\":\"\",\"marker\":{\"color\":[1,3,3,2,3,1,2,3,2,3,3,1,3,2,2,3,3,3,3,1,3,3,2,3,3,1,3,3,1,2,1,2,3,3,3,3,3,3,3,2,2,3,3,2,1,2,1,3,3,3,3,2,3,3,2,2,3,3,2,3,2,3,3,3,3,3,3,1,2,3,3,3,2,3,2,3,3,3,3,3,3,3,3,3,3,3,3,2,2,2,3,3,3,2,2,3,2,3,2,3,3,1,2,2,3,3,3,1,3,3,2,3,3,3,3,3,3,2,3,3,2,3,2,3,3,3,3,3,1,3,2,1,2,3,3,3,2,3,3,3,3,3,3,3,3,3,3,2,2,2,3,3,3,3,2,3,2,3,3,3,3,3,3,2,3,3,3,3,3,3,3,3,2,3,3,3,1,3,2,3,3,3,3,3,3,2,2,2,3,1,2,3,3,3,3,3,3,3,3,2,3,3,3,3,3,3,3,3,3,3,2,3,3,3,3,3,3,2,3,3,3,3,3,3,3,3,1,3,3,3,3,3,3,2,2,2,3,3,3,3,3,3,3,3,3,2,3,3,3,3,3,3,3,2,1,3,2,3,3,2,3,3,3,3],\"coloraxis\":\"coloraxis\",\"symbol\":\"circle\"},\"mode\":\"markers\",\"name\":\"\",\"scene\":\"scene\",\"showlegend\":false,\"x\":[2.55,51.79,156.37,93.18,2.64,5.26,84.88,62.18,1.57,0.0,3.05,0.0,52.82,2.18,1.18,1.13,0.56,30.8,0.0,52.01,25.98,22.03,0.24,8.02,52.53,96.21,0.89,0.64,176.85,86.64,6.4,3.91,3.34,89.71,5.74,73.18,113.54,89.76,77.43,2.75,57.18,3.54,110.72,38.85,108.79,1.02,30.83,30.49,8.88,1.36,2.15,1.13,4.66,1.24,2.77,5.52,13.47,71.72,12.86,16.08,0.54,1.96,1.73,38.67,1.5,8.37,2.1,54.67,174.99,15.62,101.93,103.35,12.36,4.34,16.6,2.45,15.61,118.41,2.25,2.56,150.96,76.89,12.56,8.93,131.32,1.88,134.66,1.33,1.91,63.51,5.64,0.0,78.77,1.48,148.71,4.68,2.16,1.14,8.38,55.45,44.27,51.62,3.65,144.61,39.78,48.64,10.54,14.51,4.94,37.33,1.7,5.77,11.83,17.18,5.01,85.08,1.0,0.0,94.03,19.91,59.02,72.84,1.15,33.84,73.18,14.93,1.01,4.34,26.97,2.62,0.01,63.56,57.19,0.0,17.8,4.39,0.88,3.04,0.97,0.0,6.47,27.53,51.47,1.99,4.51,4.49,1.02,58.22,35.68,1.17,1.01,13.96,5.69,32.06,16.98,16.71,10.12,3.39,2.84,7.33,45.8,1.49,1.15,4.68,1.29,6.01,7.07,0.0,49.12,0.0,0.16,1.03,0.51,0.24,1.02,0.31,0.98,0.74,6.52,0.0,1.02,1.93,0.25,0.0,0.03,1.04,0.23,0.65,0.0,0.14,0.0,0.85,0.34,0.26,0.33,25.01,1.04,2.85,21.87,0.17,0.0,1.12,0.82,1.02,49.8,0.7,1.31,0.0,0.16,6.04,24.7,0.52,1.54,4.32,22.15,3.68,1.66,0.67,25.52,36.13,1.71,27.99,5.86,2.09,4.52,25.79,47.45,5.91,1.78,1.44,13.2,1.27,20.19,20.38,0.01,8.98,4.28,1.48,1.77,9.03,7.97,0.03,2.54,35.43,0.78,21.97,1.38,144.43,8.57,52.61,93.86,47.08,96.06,1.02,49.34,1.43,1.35,0.43,0.26,0.52,1.12,0.99,59.39,48.44],\"y\":[9.78,32.96,206.43,73.01,1.36,1.89,73.26,172.51,0.22,0.0,1.44,0.0,148.42,1.31,0.97,0.73,0.05,62.06,2.79,522.35,108.72,51.4,17.1,32.72,39.0,115.76,0.52,0.28,620.86,354.11,0.51,0.22,0.93,678.88,0.69,111.85,449.14,192.81,351.46,4.34,45.23,1.21,473.0,45.49,354.52,0.89,62.13,113.88,3.03,0.8,3.09,2.15,1.1,7.69,0.26,0.98,5.08,194.56,21.01,6.91,0.05,0.12,0.03,13.89,0.5,4.97,0.55,6.96,519.26,5.52,958.07,396.99,11.15,0.42,2.29,0.18,2.07,209.44,0.22,0.85,236.04,101.15,0.7,0.83,638.05,0.41,345.62,1.63,7.82,288.87,1.65,487.18,143.51,2.48,563.03,0.45,0.48,1.6,10.39,330.36,204.65,90.68,0.21,277.74,109.13,159.03,3.57,3.35,0.42,86.17,0.13,22.2,28.55,217.47,1.03,198.06,0.45,0.0,393.1,10.76,392.21,191.61,3.08,135.45,225.3,57.29,2.02,36.69,185.24,0.73,0.01,61.28,129.96,0.0,3.57,0.54,1.42,1.66,2.09,0.04,0.9,133.22,90.24,0.38,0.65,1.17,1.51,250.86,35.38,0.49,0.09,1.71,8.64,251.35,221.79,159.04,22.34,0.35,0.1,18.12,110.96,3.1,0.38,2.19,1.91,8.0,1.7,3.43,150.35,0.02,11.29,1.56,1.55,4.7,0.93,2.76,1.84,5.0,0.32,2.82,1.68,6.18,9.49,1.94,1.37,0.17,1.35,3.22,1.11,2.65,1.82,1.94,4.21,7.81,3.28,60.94,6.39,0.22,99.87,4.47,0.22,2.0,5.27,3.92,22.91,4.25,2.03,0.0,7.27,182.52,25.4,3.16,33.44,0.24,3.61,0.34,40.94,29.19,13.91,100.98,3.83,62.48,28.58,0.64,1.45,73.4,101.93,35.88,23.18,1.3,85.7,10.91,53.49,18.26,12.46,3.39,48.85,1.2,1.15,3.39,10.52,5.08,0.22,51.48,2.99,21.6,6.13,107.73,45.35,39.39,272.88,39.15,104.57,30.5,124.53,4.29,1.21,5.55,5.07,1.52,3.65,16.6,51.95,106.02],\"z\":[13.36,7.45,9.0,4.89,4.4,2.9,11.34,5.29,0.66,0.0,0.4,0.0,34.49,3.09,1.47,4.41,1.04,4.62,14.48,12.78,4.82,7.08,74.29,26.04,6.59,6.5,1.59,7.22,29.33,68.15,0.24,2.08,2.32,35.63,4.31,5.55,41.21,12.67,70.94,2.51,2.5,1.89,49.09,9.01,14.94,0.3,14.07,16.06,2.21,2.92,0.31,2.95,0.03,2.64,0.25,0.88,0.67,15.74,1.62,1.48,0.39,0.72,0.39,1.2,1.41,3.08,1.18,6.0,11.65,5.18,40.19,77.93,3.28,2.98,0.9,2.34,6.11,5.23,0.63,2.61,7.67,7.62,0.81,1.23,17.57,18.16,9.46,5.16,8.53,8.12,18.67,58.59,3.52,0.99,23.83,3.51,3.1,0.0,6.47,10.79,6.07,15.35,1.63,7.3,9.85,6.48,1.58,0.44,0.82,1.32,0.82,3.31,1.42,11.84,1.74,5.7,0.54,0.0,11.67,7.39,31.23,6.82,2.12,4.02,8.73,1.4,2.08,3.82,10.61,2.01,0.13,4.24,3.17,0.0,0.92,0.9,0.34,1.69,1.54,0.11,1.62,3.42,4.78,1.16,0.28,1.02,0.97,7.92,2.15,1.37,0.39,6.96,7.79,5.85,41.26,7.56,3.53,0.51,0.06,1.68,6.18,2.05,1.13,0.55,0.68,2.17,3.4,1.36,24.14,3.31,6.82,2.35,1.55,6.18,2.32,4.68,1.64,0.29,0.36,3.36,2.76,9.61,8.66,5.06,4.18,1.82,6.57,14.22,3.41,1.84,2.93,1.48,1.9,0.61,9.31,8.5,5.74,1.18,20.84,2.27,4.38,1.21,9.9,4.82,8.38,0.33,1.6,0.0,5.6,37.34,2.31,1.04,8.0,0.08,0.94,0.38,7.45,8.51,3.46,8.55,2.63,9.07,6.19,0.18,0.99,11.95,31.74,11.04,12.59,1.81,9.15,6.62,6.62,2.81,7.41,1.0,10.03,0.4,0.61,3.12,2.81,2.74,0.16,8.43,0.66,13.51,1.39,21.69,10.53,4.56,19.45,9.8,10.26,7.26,18.55,0.28,0.01,0.46,3.0,2.26,0.62,6.25,3.79,11.08],\"type\":\"scatter3d\"}],                        {\"template\":{\"data\":{\"histogram2dcontour\":[{\"type\":\"histogram2dcontour\",\"colorbar\":{\"outlinewidth\":0,\"ticks\":\"\"},\"colorscale\":[[0.0,\"#0d0887\"],[0.1111111111111111,\"#46039f\"],[0.2222222222222222,\"#7201a8\"],[0.3333333333333333,\"#9c179e\"],[0.4444444444444444,\"#bd3786\"],[0.5555555555555556,\"#d8576b\"],[0.6666666666666666,\"#ed7953\"],[0.7777777777777778,\"#fb9f3a\"],[0.8888888888888888,\"#fdca26\"],[1.0,\"#f0f921\"]]}],\"choropleth\":[{\"type\":\"choropleth\",\"colorbar\":{\"outlinewidth\":0,\"ticks\":\"\"}}],\"histogram2d\":[{\"type\":\"histogram2d\",\"colorbar\":{\"outlinewidth\":0,\"ticks\":\"\"},\"colorscale\":[[0.0,\"#0d0887\"],[0.1111111111111111,\"#46039f\"],[0.2222222222222222,\"#7201a8\"],[0.3333333333333333,\"#9c179e\"],[0.4444444444444444,\"#bd3786\"],[0.5555555555555556,\"#d8576b\"],[0.6666666666666666,\"#ed7953\"],[0.7777777777777778,\"#fb9f3a\"],[0.8888888888888888,\"#fdca26\"],[1.0,\"#f0f921\"]]}],\"heatmap\":[{\"type\":\"heatmap\",\"colorbar\":{\"outlinewidth\":0,\"ticks\":\"\"},\"colorscale\":[[0.0,\"#0d0887\"],[0.1111111111111111,\"#46039f\"],[0.2222222222222222,\"#7201a8\"],[0.3333333333333333,\"#9c179e\"],[0.4444444444444444,\"#bd3786\"],[0.5555555555555556,\"#d8576b\"],[0.6666666666666666,\"#ed7953\"],[0.7777777777777778,\"#fb9f3a\"],[0.8888888888888888,\"#fdca26\"],[1.0,\"#f0f921\"]]}],\"heatmapgl\":[{\"type\":\"heatmapgl\",\"colorbar\":{\"outlinewidth\":0,\"ticks\":\"\"},\"colorscale\":[[0.0,\"#0d0887\"],[0.1111111111111111,\"#46039f\"],[0.2222222222222222,\"#7201a8\"],[0.3333333333333333,\"#9c179e\"],[0.4444444444444444,\"#bd3786\"],[0.5555555555555556,\"#d8576b\"],[0.6666666666666666,\"#ed7953\"],[0.7777777777777778,\"#fb9f3a\"],[0.8888888888888888,\"#fdca26\"],[1.0,\"#f0f921\"]]}],\"contourcarpet\":[{\"type\":\"contourcarpet\",\"colorbar\":{\"outlinewidth\":0,\"ticks\":\"\"}}],\"contour\":[{\"type\":\"contour\",\"colorbar\":{\"outlinewidth\":0,\"ticks\":\"\"},\"colorscale\":[[0.0,\"#0d0887\"],[0.1111111111111111,\"#46039f\"],[0.2222222222222222,\"#7201a8\"],[0.3333333333333333,\"#9c179e\"],[0.4444444444444444,\"#bd3786\"],[0.5555555555555556,\"#d8576b\"],[0.6666666666666666,\"#ed7953\"],[0.7777777777777778,\"#fb9f3a\"],[0.8888888888888888,\"#fdca26\"],[1.0,\"#f0f921\"]]}],\"surface\":[{\"type\":\"surface\",\"colorbar\":{\"outlinewidth\":0,\"ticks\":\"\"},\"colorscale\":[[0.0,\"#0d0887\"],[0.1111111111111111,\"#46039f\"],[0.2222222222222222,\"#7201a8\"],[0.3333333333333333,\"#9c179e\"],[0.4444444444444444,\"#bd3786\"],[0.5555555555555556,\"#d8576b\"],[0.6666666666666666,\"#ed7953\"],[0.7777777777777778,\"#fb9f3a\"],[0.8888888888888888,\"#fdca26\"],[1.0,\"#f0f921\"]]}],\"mesh3d\":[{\"type\":\"mesh3d\",\"colorbar\":{\"outlinewidth\":0,\"ticks\":\"\"}}],\"scatter\":[{\"fillpattern\":{\"fillmode\":\"overlay\",\"size\":10,\"solidity\":0.2},\"type\":\"scatter\"}],\"parcoords\":[{\"type\":\"parcoords\",\"line\":{\"colorbar\":{\"outlinewidth\":0,\"ticks\":\"\"}}}],\"scatterpolargl\":[{\"type\":\"scatterpolargl\",\"marker\":{\"colorbar\":{\"outlinewidth\":0,\"ticks\":\"\"}}}],\"bar\":[{\"error_x\":{\"color\":\"#2a3f5f\"},\"error_y\":{\"color\":\"#2a3f5f\"},\"marker\":{\"line\":{\"color\":\"#E5ECF6\",\"width\":0.5},\"pattern\":{\"fillmode\":\"overlay\",\"size\":10,\"solidity\":0.2}},\"type\":\"bar\"}],\"scattergeo\":[{\"type\":\"scattergeo\",\"marker\":{\"colorbar\":{\"outlinewidth\":0,\"ticks\":\"\"}}}],\"scatterpolar\":[{\"type\":\"scatterpolar\",\"marker\":{\"colorbar\":{\"outlinewidth\":0,\"ticks\":\"\"}}}],\"histogram\":[{\"marker\":{\"pattern\":{\"fillmode\":\"overlay\",\"size\":10,\"solidity\":0.2}},\"type\":\"histogram\"}],\"scattergl\":[{\"type\":\"scattergl\",\"marker\":{\"colorbar\":{\"outlinewidth\":0,\"ticks\":\"\"}}}],\"scatter3d\":[{\"type\":\"scatter3d\",\"line\":{\"colorbar\":{\"outlinewidth\":0,\"ticks\":\"\"}},\"marker\":{\"colorbar\":{\"outlinewidth\":0,\"ticks\":\"\"}}}],\"scattermapbox\":[{\"type\":\"scattermapbox\",\"marker\":{\"colorbar\":{\"outlinewidth\":0,\"ticks\":\"\"}}}],\"scatterternary\":[{\"type\":\"scatterternary\",\"marker\":{\"colorbar\":{\"outlinewidth\":0,\"ticks\":\"\"}}}],\"scattercarpet\":[{\"type\":\"scattercarpet\",\"marker\":{\"colorbar\":{\"outlinewidth\":0,\"ticks\":\"\"}}}],\"carpet\":[{\"aaxis\":{\"endlinecolor\":\"#2a3f5f\",\"gridcolor\":\"white\",\"linecolor\":\"white\",\"minorgridcolor\":\"white\",\"startlinecolor\":\"#2a3f5f\"},\"baxis\":{\"endlinecolor\":\"#2a3f5f\",\"gridcolor\":\"white\",\"linecolor\":\"white\",\"minorgridcolor\":\"white\",\"startlinecolor\":\"#2a3f5f\"},\"type\":\"carpet\"}],\"table\":[{\"cells\":{\"fill\":{\"color\":\"#EBF0F8\"},\"line\":{\"color\":\"white\"}},\"header\":{\"fill\":{\"color\":\"#C8D4E3\"},\"line\":{\"color\":\"white\"}},\"type\":\"table\"}],\"barpolar\":[{\"marker\":{\"line\":{\"color\":\"#E5ECF6\",\"width\":0.5},\"pattern\":{\"fillmode\":\"overlay\",\"size\":10,\"solidity\":0.2}},\"type\":\"barpolar\"}],\"pie\":[{\"automargin\":true,\"type\":\"pie\"}]},\"layout\":{\"autotypenumbers\":\"strict\",\"colorway\":[\"#636efa\",\"#EF553B\",\"#00cc96\",\"#ab63fa\",\"#FFA15A\",\"#19d3f3\",\"#FF6692\",\"#B6E880\",\"#FF97FF\",\"#FECB52\"],\"font\":{\"color\":\"#2a3f5f\"},\"hovermode\":\"closest\",\"hoverlabel\":{\"align\":\"left\"},\"paper_bgcolor\":\"white\",\"plot_bgcolor\":\"#E5ECF6\",\"polar\":{\"bgcolor\":\"#E5ECF6\",\"angularaxis\":{\"gridcolor\":\"white\",\"linecolor\":\"white\",\"ticks\":\"\"},\"radialaxis\":{\"gridcolor\":\"white\",\"linecolor\":\"white\",\"ticks\":\"\"}},\"ternary\":{\"bgcolor\":\"#E5ECF6\",\"aaxis\":{\"gridcolor\":\"white\",\"linecolor\":\"white\",\"ticks\":\"\"},\"baxis\":{\"gridcolor\":\"white\",\"linecolor\":\"white\",\"ticks\":\"\"},\"caxis\":{\"gridcolor\":\"white\",\"linecolor\":\"white\",\"ticks\":\"\"}},\"coloraxis\":{\"colorbar\":{\"outlinewidth\":0,\"ticks\":\"\"}},\"colorscale\":{\"sequential\":[[0.0,\"#0d0887\"],[0.1111111111111111,\"#46039f\"],[0.2222222222222222,\"#7201a8\"],[0.3333333333333333,\"#9c179e\"],[0.4444444444444444,\"#bd3786\"],[0.5555555555555556,\"#d8576b\"],[0.6666666666666666,\"#ed7953\"],[0.7777777777777778,\"#fb9f3a\"],[0.8888888888888888,\"#fdca26\"],[1.0,\"#f0f921\"]],\"sequentialminus\":[[0.0,\"#0d0887\"],[0.1111111111111111,\"#46039f\"],[0.2222222222222222,\"#7201a8\"],[0.3333333333333333,\"#9c179e\"],[0.4444444444444444,\"#bd3786\"],[0.5555555555555556,\"#d8576b\"],[0.6666666666666666,\"#ed7953\"],[0.7777777777777778,\"#fb9f3a\"],[0.8888888888888888,\"#fdca26\"],[1.0,\"#f0f921\"]],\"diverging\":[[0,\"#8e0152\"],[0.1,\"#c51b7d\"],[0.2,\"#de77ae\"],[0.3,\"#f1b6da\"],[0.4,\"#fde0ef\"],[0.5,\"#f7f7f7\"],[0.6,\"#e6f5d0\"],[0.7,\"#b8e186\"],[0.8,\"#7fbc41\"],[0.9,\"#4d9221\"],[1,\"#276419\"]]},\"xaxis\":{\"gridcolor\":\"white\",\"linecolor\":\"white\",\"ticks\":\"\",\"title\":{\"standoff\":15},\"zerolinecolor\":\"white\",\"automargin\":true,\"zerolinewidth\":2},\"yaxis\":{\"gridcolor\":\"white\",\"linecolor\":\"white\",\"ticks\":\"\",\"title\":{\"standoff\":15},\"zerolinecolor\":\"white\",\"automargin\":true,\"zerolinewidth\":2},\"scene\":{\"xaxis\":{\"backgroundcolor\":\"#E5ECF6\",\"gridcolor\":\"white\",\"linecolor\":\"white\",\"showbackground\":true,\"ticks\":\"\",\"zerolinecolor\":\"white\",\"gridwidth\":2},\"yaxis\":{\"backgroundcolor\":\"#E5ECF6\",\"gridcolor\":\"white\",\"linecolor\":\"white\",\"showbackground\":true,\"ticks\":\"\",\"zerolinecolor\":\"white\",\"gridwidth\":2},\"zaxis\":{\"backgroundcolor\":\"#E5ECF6\",\"gridcolor\":\"white\",\"linecolor\":\"white\",\"showbackground\":true,\"ticks\":\"\",\"zerolinecolor\":\"white\",\"gridwidth\":2}},\"shapedefaults\":{\"line\":{\"color\":\"#2a3f5f\"}},\"annotationdefaults\":{\"arrowcolor\":\"#2a3f5f\",\"arrowhead\":0,\"arrowwidth\":1},\"geo\":{\"bgcolor\":\"white\",\"landcolor\":\"#E5ECF6\",\"subunitcolor\":\"white\",\"showland\":true,\"showlakes\":true,\"lakecolor\":\"white\"},\"title\":{\"x\":0.05},\"mapbox\":{\"style\":\"light\"}}},\"scene\":{\"domain\":{\"x\":[0.0,1.0],\"y\":[0.0,1.0]},\"xaxis\":{\"title\":{\"text\":\"QIB\"}},\"yaxis\":{\"title\":{\"text\":\"HNI\"}},\"zaxis\":{\"title\":{\"text\":\"RII\"}}},\"coloraxis\":{\"colorbar\":{\"title\":{\"text\":\"target\"}},\"colorscale\":[[0.0,\"#0d0887\"],[0.1111111111111111,\"#46039f\"],[0.2222222222222222,\"#7201a8\"],[0.3333333333333333,\"#9c179e\"],[0.4444444444444444,\"#bd3786\"],[0.5555555555555556,\"#d8576b\"],[0.6666666666666666,\"#ed7953\"],[0.7777777777777778,\"#fb9f3a\"],[0.8888888888888888,\"#fdca26\"],[1.0,\"#f0f921\"]]},\"legend\":{\"tracegroupgap\":0},\"margin\":{\"t\":60}},                        {\"responsive\": true}                    ).then(function(){\n",
       "                            \n",
       "var gd = document.getElementById('5f0c5480-6e57-4169-9460-71a31d82688c');\n",
       "var x = new MutationObserver(function (mutations, observer) {{\n",
       "        var display = window.getComputedStyle(gd).display;\n",
       "        if (!display || display === 'none') {{\n",
       "            console.log([gd, 'removed!']);\n",
       "            Plotly.purge(gd);\n",
       "            observer.disconnect();\n",
       "        }}\n",
       "}});\n",
       "\n",
       "// Listen for the removal of the full notebook cells\n",
       "var notebookContainer = gd.closest('#notebook-container');\n",
       "if (notebookContainer) {{\n",
       "    x.observe(notebookContainer, {childList: true});\n",
       "}}\n",
       "\n",
       "// Listen for the clearing of the current output cell\n",
       "var outputEl = gd.closest('.output');\n",
       "if (outputEl) {{\n",
       "    x.observe(outputEl, {childList: true});\n",
       "}}\n",
       "\n",
       "                        })                };                });            </script>        </div>"
      ]
     },
     "metadata": {},
     "output_type": "display_data"
    }
   ],
   "source": [
    "jk=px.scatter_3d(de,x='QIB',y='HNI',z='RII',color='target')\n",
    "jk.show()"
   ]
  },
  {
   "cell_type": "code",
   "execution_count": 12,
   "id": "715fe31e",
   "metadata": {
    "execution": {
     "iopub.execute_input": "2022-09-14T16:54:53.856848Z",
     "iopub.status.busy": "2022-09-14T16:54:53.855720Z",
     "iopub.status.idle": "2022-09-14T16:54:53.918640Z",
     "shell.execute_reply": "2022-09-14T16:54:53.917742Z"
    },
    "papermill": {
     "duration": 0.076175,
     "end_time": "2022-09-14T16:54:53.921206",
     "exception": false,
     "start_time": "2022-09-14T16:54:53.845031",
     "status": "completed"
    },
    "tags": []
   },
   "outputs": [
    {
     "data": {
      "text/html": [
       "<div>                            <div id=\"5c46412b-23b7-4093-9514-51d99bfd2f11\" class=\"plotly-graph-div\" style=\"height:525px; width:100%;\"></div>            <script type=\"text/javascript\">                require([\"plotly\"], function(Plotly) {                    window.PLOTLYENV=window.PLOTLYENV || {};                                    if (document.getElementById(\"5c46412b-23b7-4093-9514-51d99bfd2f11\")) {                    Plotly.newPlot(                        \"5c46412b-23b7-4093-9514-51d99bfd2f11\",                        [{\"hovertemplate\":\"CMP=%{x}<br>Issue=%{y}<br>Total=%{z}<br>target=%{marker.color}<extra></extra>\",\"legendgroup\":\"\",\"marker\":{\"color\":[1,3,3,2,3,1,2,3,2,3,3,1,3,2,2,3,3,3,3,1,3,3,2,3,3,1,3,3,1,2,1,2,3,3,3,3,3,3,3,2,2,3,3,2,1,2,1,3,3,3,3,2,3,3,2,2,3,3,2,3,2,3,3,3,3,3,3,1,2,3,3,3,2,3,2,3,3,3,3,3,3,3,3,3,3,3,3,2,2,2,3,3,3,2,2,3,2,3,2,3,3,1,2,2,3,3,3,1,3,3,2,3,3,3,3,3,3,2,3,3,2,3,2,3,3,3,3,3,1,3,2,1,2,3,3,3,2,3,3,3,3,3,3,3,3,3,3,2,2,2,3,3,3,3,2,3,2,3,3,3,3,3,3,2,3,3,3,3,3,3,3,3,2,3,3,3,1,3,2,3,3,3,3,3,3,2,2,2,3,1,2,3,3,3,3,3,3,3,3,2,3,3,3,3,3,3,3,3,3,3,2,3,3,3,3,3,3,2,3,3,3,3,3,3,3,3,1,3,3,3,3,3,3,2,2,2,3,3,3,3,3,3,3,3,3,2,3,3,3,3,3,3,3,2,1,3,2,3,3,2,3,3,3,3],\"coloraxis\":\"coloraxis\",\"symbol\":\"circle\"},\"mode\":\"markers\",\"name\":\"\",\"scene\":\"scene\",\"showlegend\":false,\"x\":[\"2,268.50\",\"133.35\",\"1,682.80\",\"1,730.85\",\"337.40\",\"1,206.60\",\"617.50\",\"436.10\",\"438.90\",\"119.00\",\"853.45\",\"878.70\",\"1,850.00\",\"203.45\",\"70.90\",\"261.55\",\"2,001.75\",\"723.10\",\"408.85\",\"1,438.85\",\"810.15\",\"139.00\",\"1,728.35\",\"772.15\",\"600.00\",\"2,595.00\",\"23.00\",\"344.95\",\"427.90\",\"180.40\",\"3,920.00\",\"63.20\",\"1,042.05\",\"259.50\",\"1,186.85\",\"3,344.45\",\"502.00\",\"2,063.10\",\"1,361.65\",\"1,243.35\",\"1,036.45\",\"685.70\",\"28.80\",\"349.80\",\"2,329.60\",\"286.10\",\"7,135.65\",\"917.00\",\"2,855.00\",\"29.65\",\"362.51\",\"284.05\",\"176.35\",\"418.90\",\"2,523.30\",\"662.45\",\"584.65\",\"276.90\",\"2,998.10\",\"338.45\",\"731.60\",\"190.65\",\"1,116.55\",\"291.30\",\"419.90\",\"528.50\",\"163.30\",\"3,120.00\",\"2,992.30\",\"609.00\",\"115.90\",\"61.30\",\"82.85\",\"193.80\",\"665.10\",\"293.85\",\"748.20\",\"399.95\",\"180.15\",\"430.80\",\"694.00\",\"740.00\",\"1,099.70\",\"1,475.60\",\"228.35\",\"1,154.60\",\"4,300.95\",\"34.80\",\"377.20\",\"376.45\",\"485.00\",\"342.00\",\"1,219.90\",\"191.35\",\"1,331.45\",\"792.10\",\"258.30\",\"141.25\",\"464.75\",\"45.30\",\"141.00\",\"654.25\",\"159.65\",\"3,500.55\",\"24.60\",\"1,248.80\",\"640.65\",\"2,385.00\",\"758.40\",\"677.25\",\"1,734.00\",\"83.55\",\"631.60\",\"651.00\",\"3,720.00\",\"192.95\",\"324.05\",\"560.00\",\"399.45\",\"4,684.80\",\"867.20\",\"1,165.95\",\"138.55\",\"239.75\",\"1,306.50\",\"128.50\",\"79.05\",\"303.25\",\"4,256.05\",\"109.05\",\"489.00\",\"3,554.55\",\"3,454.55\",\"169.10\",\"1,668.00\",\"41.00\",\"99.65\",\"28.40\",\"172.80\",\"63.85\",\"49.45\",\"815.00\",\"637.75\",\"6.14\",\"314.20\",\"105.75\",\"23.20\",\"303.65\",\"141.90\",\"8.64\",\"1.29\",\"379.80\",\"127.10\",\"347.90\",\"50.50\",\"244.50\",\"964.15\",\"340.00\",\"222.15\",\"24.60\",\"721.50\",\"0.76\",\"0.04\",\"73.70\",\"84.25\",\"9.75\",\"51.45\",\"2.79\",\"1,599.65\",\"71.00\",\"13.63\",\"2.99\",\"21.35\",\"3.85\",\"12.11\",\"1.46\",\"377.80\",\"0.19\",\"193.10\",\"88.50\",\"11.06\",\"88.30\",\"3.53\",\"1.78\",\"5.29\",\"0.28\",\"290.10\",\"2.21\",\"16.21\",\"6.29\",\"16.50\",\"4.20\",\"1.33\",\"8.24\",\"0.82\",\"1,555.50\",\"1.10\",\"20.45\",\"125.25\",\"1.02\",\"104.70\",\"1.67\",\"18.34\",\"1.79\",\"20.00\",\"5.25\",\"396.55\",\"190.10\",\"85.50\",\"186.15\",\"143.25\",\"0.33\",\"2.80\",\"341.80\",\"672.90\",\"37.75\",\"1.98\",\"41.80\",\"107.45\",\"370.00\",\"401.60\",\"4.53\",\"31.05\",\"3.43\",\"177.95\",\"24.80\",\"174.80\",\"320.55\",\"1.59\",\"2.94\",\"110.80\",\"1.57\",\"285.00\",\"898.20\",\"1.28\",\"87.20\",\"6.85\",\"5.70\",\"2.16\",\"27.25\",\"9.80\",\"5.31\",\"2.58\",\"1.45\",\"1.25\",\"114.55\",\"0.82\",\"3,131.00\",\"1.20\",\"5.42\",\"0.91\",\"4.48\",\"65.10\",\"54.20\",\"31.50\",\"26.05\",\"25.60\",\"113.80\",\"1.40\",\"870.00\",\"21.70\",\"4.06\",\"3,770.20\",\"473.75\"],\"y\":[1083.0,76.0,900.0,837.0,296.0,825.0,428.0,306.0,291.0,100.0,486.0,500.0,1101.0,305.0,87.0,130.0,1490.0,555.0,187.0,575.0,627.0,94.0,400.0,385.0,518.0,1490.0,26.0,315.0,288.0,60.0,1500.0,33.0,554.0,145.0,306.0,1230.0,340.0,350.0,166.0,425.0,755.0,178.0,37.0,195.0,320.0,780.0,973.0,0.0,880.0,19.0,300.0,128.0,280.0,66.0,821.0,422.0,716.0,185.0,783.0,572.0,520.0,0.0,1215.0,375.0,428.0,270.0,190.0,1480.0,859.0,245.0,275.0,50.0,664.0,248.0,290.0,750.0,429.0,252.0,912.0,1650.0,460.0,938.0,700.0,661.0,250.0,985.0,1766.0,205.0,175.0,432.0,815.0,108.0,358.0,170.0,149.0,603.0,257.0,100.0,210.0,58.0,670.0,460.0,500.0,299.0,333.0,806.0,428.0,730.0,445.0,775.0,472.0,202.0,334.0,207.0,860.0,225.0,268.0,219.0,896.0,710.0,317.0,421.0,215.0,210.0,446.0,110.0,45.0,321.0,850.0,186.0,250.0,550.0,1050.0,180.0,765.0,328.0,115.0,103.0,65.0,178.0,155.0,640.0,250.0,320.0,378.0,625.0,63.0,205.0,325.0,180.0,181.0,645.0,170.0,156.0,47.0,125.0,530.0,172.0,220.0,135.0,750.0,230.0,55.0,150.0,120.0,80.0,106.0,30.0,1032.0,74.0,49.0,186.0,155.0,150.0,110.0,138.0,210.0,58.0,256.0,100.0,135.0,52.0,117.0,82.0,108.0,10.0,72.0,63.0,40.0,234.0,85.0,117.0,29.0,10.0,35.0,175.0,69.0,28.0,205.0,77.0,70.0,90.0,98.0,110.0,120.0,400.0,228.0,375.0,75.0,125.0,245.0,248.0,71.0,183.0,260.0,127.0,100.0,102.0,324.0,1310.0,135.0,355.0,11.0,47.0,450.0,175.0,310.0,118.0,43.0,29.0,46.0,110.0,660.0,985.0,118.0,166.0,240.0,75.0,102.0,26.0,130.0,75.0,54.0,128.0,135.0,145.0,260.0,310.0,110.0,258.0,80.0,66.0,252.0,90.0,450.0,240.0,468.0,45.0,220.0,75.0,165.0,75.0,145.0,165.0],\"z\":[9.5,38.25,93.41,43.48,3.25,3.86,45.62,56.56,1.04,0.0,1.36,0.0,75.04,2.37,1.28,2.68,0.69,23.86,3.39,133.18,33.13,20.68,17.98,18.03,26.66,54.84,1.16,3.85,198.02,156.65,2.06,1.95,2.31,157.41,3.94,46.99,149.33,73.3,150.98,2.97,26.54,2.21,165.68,35.24,111.95,0.85,36.21,41.18,5.84,1.82,2.57,1.46,1.57,3.25,0.97,2.22,5.27,67.24,8.99,6.8,0.36,1.21,0.99,14.63,1.3,4.98,1.31,20.0,165.42,8.25,248.51,243.29,7.56,2.82,4.89,1.9,7.9,81.33,1.38,2.28,95.41,46.97,3.55,2.98,183.03,4.44,117.27,1.75,6.14,76.06,6.92,277.28,53.6,1.53,170.16,3.29,1.88,1.35,8.58,79.53,59.49,41.88,1.9,104.48,39.67,51.22,4.53,5.09,1.86,29.53,0.92,8.06,10.48,54.88,2.52,69.62,0.66,0.0,116.02,11.69,143.99,64.54,1.83,40.68,73.55,17.21,1.21,10.8,66.02,1.91,0.07,33.41,44.29,0.0,6.15,1.82,0.77,2.24,1.34,0.07,2.85,38.12,32.05,1.4,1.56,2.04,1.11,74.26,18.6,1.11,0.75,7.83,7.39,59.97,59.75,38.06,11.63,1.65,1.21,6.85,40.98,1.98,1.03,2.54,1.15,4.8,4.93,0.99,54.13,1.16,4.16,1.57,1.03,2.99,1.51,2.21,1.34,1.22,2.72,1.6,1.85,5.34,4.58,2.06,1.68,1.18,2.62,5.78,1.36,1.11,1.3,1.24,1.47,1.52,3.92,24.55,3.48,1.7,35.21,1.55,1.57,1.28,4.67,2.78,47.2,0.96,1.5,0.0,2.97,42.88,15.28,1.1,8.59,2.26,12.13,2.07,9.58,7.69,15.94,36.22,2.35,24.47,8.23,1.07,2.89,26.51,47.39,12.2,8.77,1.55,19.94,4.53,19.29,13.69,4.47,5.43,12.78,1.04,1.24,6.64,6.32,1.74,1.16,28.39,1.07,18.95,1.96,93.6,14.08,33.42,86.33,33.38,62.53,7.48,47.62,1.36,0.85,1.2,1.94,1.12,1.22,5.17,31.11,43.22],\"type\":\"scatter3d\"}],                        {\"template\":{\"data\":{\"histogram2dcontour\":[{\"type\":\"histogram2dcontour\",\"colorbar\":{\"outlinewidth\":0,\"ticks\":\"\"},\"colorscale\":[[0.0,\"#0d0887\"],[0.1111111111111111,\"#46039f\"],[0.2222222222222222,\"#7201a8\"],[0.3333333333333333,\"#9c179e\"],[0.4444444444444444,\"#bd3786\"],[0.5555555555555556,\"#d8576b\"],[0.6666666666666666,\"#ed7953\"],[0.7777777777777778,\"#fb9f3a\"],[0.8888888888888888,\"#fdca26\"],[1.0,\"#f0f921\"]]}],\"choropleth\":[{\"type\":\"choropleth\",\"colorbar\":{\"outlinewidth\":0,\"ticks\":\"\"}}],\"histogram2d\":[{\"type\":\"histogram2d\",\"colorbar\":{\"outlinewidth\":0,\"ticks\":\"\"},\"colorscale\":[[0.0,\"#0d0887\"],[0.1111111111111111,\"#46039f\"],[0.2222222222222222,\"#7201a8\"],[0.3333333333333333,\"#9c179e\"],[0.4444444444444444,\"#bd3786\"],[0.5555555555555556,\"#d8576b\"],[0.6666666666666666,\"#ed7953\"],[0.7777777777777778,\"#fb9f3a\"],[0.8888888888888888,\"#fdca26\"],[1.0,\"#f0f921\"]]}],\"heatmap\":[{\"type\":\"heatmap\",\"colorbar\":{\"outlinewidth\":0,\"ticks\":\"\"},\"colorscale\":[[0.0,\"#0d0887\"],[0.1111111111111111,\"#46039f\"],[0.2222222222222222,\"#7201a8\"],[0.3333333333333333,\"#9c179e\"],[0.4444444444444444,\"#bd3786\"],[0.5555555555555556,\"#d8576b\"],[0.6666666666666666,\"#ed7953\"],[0.7777777777777778,\"#fb9f3a\"],[0.8888888888888888,\"#fdca26\"],[1.0,\"#f0f921\"]]}],\"heatmapgl\":[{\"type\":\"heatmapgl\",\"colorbar\":{\"outlinewidth\":0,\"ticks\":\"\"},\"colorscale\":[[0.0,\"#0d0887\"],[0.1111111111111111,\"#46039f\"],[0.2222222222222222,\"#7201a8\"],[0.3333333333333333,\"#9c179e\"],[0.4444444444444444,\"#bd3786\"],[0.5555555555555556,\"#d8576b\"],[0.6666666666666666,\"#ed7953\"],[0.7777777777777778,\"#fb9f3a\"],[0.8888888888888888,\"#fdca26\"],[1.0,\"#f0f921\"]]}],\"contourcarpet\":[{\"type\":\"contourcarpet\",\"colorbar\":{\"outlinewidth\":0,\"ticks\":\"\"}}],\"contour\":[{\"type\":\"contour\",\"colorbar\":{\"outlinewidth\":0,\"ticks\":\"\"},\"colorscale\":[[0.0,\"#0d0887\"],[0.1111111111111111,\"#46039f\"],[0.2222222222222222,\"#7201a8\"],[0.3333333333333333,\"#9c179e\"],[0.4444444444444444,\"#bd3786\"],[0.5555555555555556,\"#d8576b\"],[0.6666666666666666,\"#ed7953\"],[0.7777777777777778,\"#fb9f3a\"],[0.8888888888888888,\"#fdca26\"],[1.0,\"#f0f921\"]]}],\"surface\":[{\"type\":\"surface\",\"colorbar\":{\"outlinewidth\":0,\"ticks\":\"\"},\"colorscale\":[[0.0,\"#0d0887\"],[0.1111111111111111,\"#46039f\"],[0.2222222222222222,\"#7201a8\"],[0.3333333333333333,\"#9c179e\"],[0.4444444444444444,\"#bd3786\"],[0.5555555555555556,\"#d8576b\"],[0.6666666666666666,\"#ed7953\"],[0.7777777777777778,\"#fb9f3a\"],[0.8888888888888888,\"#fdca26\"],[1.0,\"#f0f921\"]]}],\"mesh3d\":[{\"type\":\"mesh3d\",\"colorbar\":{\"outlinewidth\":0,\"ticks\":\"\"}}],\"scatter\":[{\"fillpattern\":{\"fillmode\":\"overlay\",\"size\":10,\"solidity\":0.2},\"type\":\"scatter\"}],\"parcoords\":[{\"type\":\"parcoords\",\"line\":{\"colorbar\":{\"outlinewidth\":0,\"ticks\":\"\"}}}],\"scatterpolargl\":[{\"type\":\"scatterpolargl\",\"marker\":{\"colorbar\":{\"outlinewidth\":0,\"ticks\":\"\"}}}],\"bar\":[{\"error_x\":{\"color\":\"#2a3f5f\"},\"error_y\":{\"color\":\"#2a3f5f\"},\"marker\":{\"line\":{\"color\":\"#E5ECF6\",\"width\":0.5},\"pattern\":{\"fillmode\":\"overlay\",\"size\":10,\"solidity\":0.2}},\"type\":\"bar\"}],\"scattergeo\":[{\"type\":\"scattergeo\",\"marker\":{\"colorbar\":{\"outlinewidth\":0,\"ticks\":\"\"}}}],\"scatterpolar\":[{\"type\":\"scatterpolar\",\"marker\":{\"colorbar\":{\"outlinewidth\":0,\"ticks\":\"\"}}}],\"histogram\":[{\"marker\":{\"pattern\":{\"fillmode\":\"overlay\",\"size\":10,\"solidity\":0.2}},\"type\":\"histogram\"}],\"scattergl\":[{\"type\":\"scattergl\",\"marker\":{\"colorbar\":{\"outlinewidth\":0,\"ticks\":\"\"}}}],\"scatter3d\":[{\"type\":\"scatter3d\",\"line\":{\"colorbar\":{\"outlinewidth\":0,\"ticks\":\"\"}},\"marker\":{\"colorbar\":{\"outlinewidth\":0,\"ticks\":\"\"}}}],\"scattermapbox\":[{\"type\":\"scattermapbox\",\"marker\":{\"colorbar\":{\"outlinewidth\":0,\"ticks\":\"\"}}}],\"scatterternary\":[{\"type\":\"scatterternary\",\"marker\":{\"colorbar\":{\"outlinewidth\":0,\"ticks\":\"\"}}}],\"scattercarpet\":[{\"type\":\"scattercarpet\",\"marker\":{\"colorbar\":{\"outlinewidth\":0,\"ticks\":\"\"}}}],\"carpet\":[{\"aaxis\":{\"endlinecolor\":\"#2a3f5f\",\"gridcolor\":\"white\",\"linecolor\":\"white\",\"minorgridcolor\":\"white\",\"startlinecolor\":\"#2a3f5f\"},\"baxis\":{\"endlinecolor\":\"#2a3f5f\",\"gridcolor\":\"white\",\"linecolor\":\"white\",\"minorgridcolor\":\"white\",\"startlinecolor\":\"#2a3f5f\"},\"type\":\"carpet\"}],\"table\":[{\"cells\":{\"fill\":{\"color\":\"#EBF0F8\"},\"line\":{\"color\":\"white\"}},\"header\":{\"fill\":{\"color\":\"#C8D4E3\"},\"line\":{\"color\":\"white\"}},\"type\":\"table\"}],\"barpolar\":[{\"marker\":{\"line\":{\"color\":\"#E5ECF6\",\"width\":0.5},\"pattern\":{\"fillmode\":\"overlay\",\"size\":10,\"solidity\":0.2}},\"type\":\"barpolar\"}],\"pie\":[{\"automargin\":true,\"type\":\"pie\"}]},\"layout\":{\"autotypenumbers\":\"strict\",\"colorway\":[\"#636efa\",\"#EF553B\",\"#00cc96\",\"#ab63fa\",\"#FFA15A\",\"#19d3f3\",\"#FF6692\",\"#B6E880\",\"#FF97FF\",\"#FECB52\"],\"font\":{\"color\":\"#2a3f5f\"},\"hovermode\":\"closest\",\"hoverlabel\":{\"align\":\"left\"},\"paper_bgcolor\":\"white\",\"plot_bgcolor\":\"#E5ECF6\",\"polar\":{\"bgcolor\":\"#E5ECF6\",\"angularaxis\":{\"gridcolor\":\"white\",\"linecolor\":\"white\",\"ticks\":\"\"},\"radialaxis\":{\"gridcolor\":\"white\",\"linecolor\":\"white\",\"ticks\":\"\"}},\"ternary\":{\"bgcolor\":\"#E5ECF6\",\"aaxis\":{\"gridcolor\":\"white\",\"linecolor\":\"white\",\"ticks\":\"\"},\"baxis\":{\"gridcolor\":\"white\",\"linecolor\":\"white\",\"ticks\":\"\"},\"caxis\":{\"gridcolor\":\"white\",\"linecolor\":\"white\",\"ticks\":\"\"}},\"coloraxis\":{\"colorbar\":{\"outlinewidth\":0,\"ticks\":\"\"}},\"colorscale\":{\"sequential\":[[0.0,\"#0d0887\"],[0.1111111111111111,\"#46039f\"],[0.2222222222222222,\"#7201a8\"],[0.3333333333333333,\"#9c179e\"],[0.4444444444444444,\"#bd3786\"],[0.5555555555555556,\"#d8576b\"],[0.6666666666666666,\"#ed7953\"],[0.7777777777777778,\"#fb9f3a\"],[0.8888888888888888,\"#fdca26\"],[1.0,\"#f0f921\"]],\"sequentialminus\":[[0.0,\"#0d0887\"],[0.1111111111111111,\"#46039f\"],[0.2222222222222222,\"#7201a8\"],[0.3333333333333333,\"#9c179e\"],[0.4444444444444444,\"#bd3786\"],[0.5555555555555556,\"#d8576b\"],[0.6666666666666666,\"#ed7953\"],[0.7777777777777778,\"#fb9f3a\"],[0.8888888888888888,\"#fdca26\"],[1.0,\"#f0f921\"]],\"diverging\":[[0,\"#8e0152\"],[0.1,\"#c51b7d\"],[0.2,\"#de77ae\"],[0.3,\"#f1b6da\"],[0.4,\"#fde0ef\"],[0.5,\"#f7f7f7\"],[0.6,\"#e6f5d0\"],[0.7,\"#b8e186\"],[0.8,\"#7fbc41\"],[0.9,\"#4d9221\"],[1,\"#276419\"]]},\"xaxis\":{\"gridcolor\":\"white\",\"linecolor\":\"white\",\"ticks\":\"\",\"title\":{\"standoff\":15},\"zerolinecolor\":\"white\",\"automargin\":true,\"zerolinewidth\":2},\"yaxis\":{\"gridcolor\":\"white\",\"linecolor\":\"white\",\"ticks\":\"\",\"title\":{\"standoff\":15},\"zerolinecolor\":\"white\",\"automargin\":true,\"zerolinewidth\":2},\"scene\":{\"xaxis\":{\"backgroundcolor\":\"#E5ECF6\",\"gridcolor\":\"white\",\"linecolor\":\"white\",\"showbackground\":true,\"ticks\":\"\",\"zerolinecolor\":\"white\",\"gridwidth\":2},\"yaxis\":{\"backgroundcolor\":\"#E5ECF6\",\"gridcolor\":\"white\",\"linecolor\":\"white\",\"showbackground\":true,\"ticks\":\"\",\"zerolinecolor\":\"white\",\"gridwidth\":2},\"zaxis\":{\"backgroundcolor\":\"#E5ECF6\",\"gridcolor\":\"white\",\"linecolor\":\"white\",\"showbackground\":true,\"ticks\":\"\",\"zerolinecolor\":\"white\",\"gridwidth\":2}},\"shapedefaults\":{\"line\":{\"color\":\"#2a3f5f\"}},\"annotationdefaults\":{\"arrowcolor\":\"#2a3f5f\",\"arrowhead\":0,\"arrowwidth\":1},\"geo\":{\"bgcolor\":\"white\",\"landcolor\":\"#E5ECF6\",\"subunitcolor\":\"white\",\"showland\":true,\"showlakes\":true,\"lakecolor\":\"white\"},\"title\":{\"x\":0.05},\"mapbox\":{\"style\":\"light\"}}},\"scene\":{\"domain\":{\"x\":[0.0,1.0],\"y\":[0.0,1.0]},\"xaxis\":{\"title\":{\"text\":\"CMP\"}},\"yaxis\":{\"title\":{\"text\":\"Issue\"}},\"zaxis\":{\"title\":{\"text\":\"Total\"}}},\"coloraxis\":{\"colorbar\":{\"title\":{\"text\":\"target\"}},\"colorscale\":[[0.0,\"#0d0887\"],[0.1111111111111111,\"#46039f\"],[0.2222222222222222,\"#7201a8\"],[0.3333333333333333,\"#9c179e\"],[0.4444444444444444,\"#bd3786\"],[0.5555555555555556,\"#d8576b\"],[0.6666666666666666,\"#ed7953\"],[0.7777777777777778,\"#fb9f3a\"],[0.8888888888888888,\"#fdca26\"],[1.0,\"#f0f921\"]]},\"legend\":{\"tracegroupgap\":0},\"margin\":{\"t\":60}},                        {\"responsive\": true}                    ).then(function(){\n",
       "                            \n",
       "var gd = document.getElementById('5c46412b-23b7-4093-9514-51d99bfd2f11');\n",
       "var x = new MutationObserver(function (mutations, observer) {{\n",
       "        var display = window.getComputedStyle(gd).display;\n",
       "        if (!display || display === 'none') {{\n",
       "            console.log([gd, 'removed!']);\n",
       "            Plotly.purge(gd);\n",
       "            observer.disconnect();\n",
       "        }}\n",
       "}});\n",
       "\n",
       "// Listen for the removal of the full notebook cells\n",
       "var notebookContainer = gd.closest('#notebook-container');\n",
       "if (notebookContainer) {{\n",
       "    x.observe(notebookContainer, {childList: true});\n",
       "}}\n",
       "\n",
       "// Listen for the clearing of the current output cell\n",
       "var outputEl = gd.closest('.output');\n",
       "if (outputEl) {{\n",
       "    x.observe(outputEl, {childList: true});\n",
       "}}\n",
       "\n",
       "                        })                };                });            </script>        </div>"
      ]
     },
     "metadata": {},
     "output_type": "display_data"
    }
   ],
   "source": [
    "jk=px.scatter_3d(de,x='CMP',y='Issue',z='Total',color='target')\n",
    "jk.show()"
   ]
  },
  {
   "cell_type": "code",
   "execution_count": 13,
   "id": "6de524f5",
   "metadata": {
    "execution": {
     "iopub.execute_input": "2022-09-14T16:54:53.941601Z",
     "iopub.status.busy": "2022-09-14T16:54:53.940976Z",
     "iopub.status.idle": "2022-09-14T16:54:53.972951Z",
     "shell.execute_reply": "2022-09-14T16:54:53.971696Z"
    },
    "papermill": {
     "duration": 0.044812,
     "end_time": "2022-09-14T16:54:53.975191",
     "exception": false,
     "start_time": "2022-09-14T16:54:53.930379",
     "status": "completed"
    },
    "tags": []
   },
   "outputs": [
    {
     "data": {
      "text/html": [
       "<div>\n",
       "<style scoped>\n",
       "    .dataframe tbody tr th:only-of-type {\n",
       "        vertical-align: middle;\n",
       "    }\n",
       "\n",
       "    .dataframe tbody tr th {\n",
       "        vertical-align: top;\n",
       "    }\n",
       "\n",
       "    .dataframe thead th {\n",
       "        text-align: right;\n",
       "    }\n",
       "</style>\n",
       "<table border=\"1\" class=\"dataframe\">\n",
       "  <thead>\n",
       "    <tr style=\"text-align: right;\">\n",
       "      <th></th>\n",
       "      <th>Date</th>\n",
       "      <th>Issue Size (in crores)</th>\n",
       "      <th>QIB</th>\n",
       "      <th>HNI</th>\n",
       "      <th>RII</th>\n",
       "      <th>Total</th>\n",
       "      <th>Issue</th>\n",
       "      <th>Listing Open</th>\n",
       "      <th>Listing Close</th>\n",
       "      <th>Listing Gains(%)</th>\n",
       "      <th>CMP</th>\n",
       "      <th>Current  Gains (%)</th>\n",
       "      <th>r</th>\n",
       "      <th>target</th>\n",
       "    </tr>\n",
       "  </thead>\n",
       "  <tbody>\n",
       "    <tr>\n",
       "      <th>0</th>\n",
       "      <td>29-07-21</td>\n",
       "      <td>500.00</td>\n",
       "      <td>2.55</td>\n",
       "      <td>9.78</td>\n",
       "      <td>13.36</td>\n",
       "      <td>9.50</td>\n",
       "      <td>1083.0</td>\n",
       "      <td>2111.80</td>\n",
       "      <td>2310.25</td>\n",
       "      <td>113.32</td>\n",
       "      <td>2,268.50</td>\n",
       "      <td>109.46</td>\n",
       "      <td>198</td>\n",
       "      <td>1</td>\n",
       "    </tr>\n",
       "    <tr>\n",
       "      <th>1</th>\n",
       "      <td>23-07-21</td>\n",
       "      <td>9375.00</td>\n",
       "      <td>51.79</td>\n",
       "      <td>32.96</td>\n",
       "      <td>7.45</td>\n",
       "      <td>38.25</td>\n",
       "      <td>76.0</td>\n",
       "      <td>115.00</td>\n",
       "      <td>125.85</td>\n",
       "      <td>65.59</td>\n",
       "      <td>133.35</td>\n",
       "      <td>75.46</td>\n",
       "      <td>10</td>\n",
       "      <td>3</td>\n",
       "    </tr>\n",
       "    <tr>\n",
       "      <th>2</th>\n",
       "      <td>19-07-21</td>\n",
       "      <td>1546.00</td>\n",
       "      <td>156.37</td>\n",
       "      <td>206.43</td>\n",
       "      <td>9.00</td>\n",
       "      <td>93.41</td>\n",
       "      <td>900.0</td>\n",
       "      <td>1784.40</td>\n",
       "      <td>1585.20</td>\n",
       "      <td>76.13</td>\n",
       "      <td>1,682.80</td>\n",
       "      <td>86.98</td>\n",
       "      <td>-199</td>\n",
       "      <td>3</td>\n",
       "    </tr>\n",
       "    <tr>\n",
       "      <th>3</th>\n",
       "      <td>19-07-21</td>\n",
       "      <td>963.28</td>\n",
       "      <td>93.18</td>\n",
       "      <td>73.01</td>\n",
       "      <td>4.89</td>\n",
       "      <td>43.48</td>\n",
       "      <td>837.0</td>\n",
       "      <td>1700.00</td>\n",
       "      <td>1746.80</td>\n",
       "      <td>108.70</td>\n",
       "      <td>1,730.85</td>\n",
       "      <td>106.79</td>\n",
       "      <td>46</td>\n",
       "      <td>2</td>\n",
       "    </tr>\n",
       "    <tr>\n",
       "      <th>4</th>\n",
       "      <td>07-07-21</td>\n",
       "      <td>800.00</td>\n",
       "      <td>2.64</td>\n",
       "      <td>1.36</td>\n",
       "      <td>4.40</td>\n",
       "      <td>3.25</td>\n",
       "      <td>296.0</td>\n",
       "      <td>360.00</td>\n",
       "      <td>335.45</td>\n",
       "      <td>13.33</td>\n",
       "      <td>337.40</td>\n",
       "      <td>13.99</td>\n",
       "      <td>-24</td>\n",
       "      <td>3</td>\n",
       "    </tr>\n",
       "    <tr>\n",
       "      <th>...</th>\n",
       "      <td>...</td>\n",
       "      <td>...</td>\n",
       "      <td>...</td>\n",
       "      <td>...</td>\n",
       "      <td>...</td>\n",
       "      <td>...</td>\n",
       "      <td>...</td>\n",
       "      <td>...</td>\n",
       "      <td>...</td>\n",
       "      <td>...</td>\n",
       "      <td>...</td>\n",
       "      <td>...</td>\n",
       "      <td>...</td>\n",
       "      <td>...</td>\n",
       "    </tr>\n",
       "    <tr>\n",
       "      <th>259</th>\n",
       "      <td>19-02-10</td>\n",
       "      <td>0.00</td>\n",
       "      <td>0.52</td>\n",
       "      <td>1.52</td>\n",
       "      <td>2.26</td>\n",
       "      <td>1.12</td>\n",
       "      <td>75.0</td>\n",
       "      <td>70.00</td>\n",
       "      <td>71.10</td>\n",
       "      <td>-5.20</td>\n",
       "      <td>870.00</td>\n",
       "      <td>1060.00</td>\n",
       "      <td>1</td>\n",
       "      <td>2</td>\n",
       "    </tr>\n",
       "    <tr>\n",
       "      <th>260</th>\n",
       "      <td>15-02-10</td>\n",
       "      <td>199.80</td>\n",
       "      <td>1.12</td>\n",
       "      <td>3.65</td>\n",
       "      <td>0.62</td>\n",
       "      <td>1.22</td>\n",
       "      <td>165.0</td>\n",
       "      <td>155.90</td>\n",
       "      <td>146.38</td>\n",
       "      <td>-11.28</td>\n",
       "      <td>21.70</td>\n",
       "      <td>-86.85</td>\n",
       "      <td>-9</td>\n",
       "      <td>3</td>\n",
       "    </tr>\n",
       "    <tr>\n",
       "      <th>261</th>\n",
       "      <td>15-02-10</td>\n",
       "      <td>56.25</td>\n",
       "      <td>0.99</td>\n",
       "      <td>16.60</td>\n",
       "      <td>6.25</td>\n",
       "      <td>5.17</td>\n",
       "      <td>75.0</td>\n",
       "      <td>88.00</td>\n",
       "      <td>87.85</td>\n",
       "      <td>17.13</td>\n",
       "      <td>4.06</td>\n",
       "      <td>-94.59</td>\n",
       "      <td>0</td>\n",
       "      <td>3</td>\n",
       "    </tr>\n",
       "    <tr>\n",
       "      <th>262</th>\n",
       "      <td>08-02-10</td>\n",
       "      <td>328.70</td>\n",
       "      <td>59.39</td>\n",
       "      <td>51.95</td>\n",
       "      <td>3.79</td>\n",
       "      <td>31.11</td>\n",
       "      <td>145.0</td>\n",
       "      <td>160.00</td>\n",
       "      <td>114.50</td>\n",
       "      <td>-21.03</td>\n",
       "      <td>3,770.20</td>\n",
       "      <td>2500.14</td>\n",
       "      <td>-45</td>\n",
       "      <td>3</td>\n",
       "    </tr>\n",
       "    <tr>\n",
       "      <th>263</th>\n",
       "      <td>03-02-10</td>\n",
       "      <td>189.80</td>\n",
       "      <td>48.44</td>\n",
       "      <td>106.02</td>\n",
       "      <td>11.08</td>\n",
       "      <td>43.22</td>\n",
       "      <td>165.0</td>\n",
       "      <td>178.35</td>\n",
       "      <td>184.51</td>\n",
       "      <td>11.82</td>\n",
       "      <td>473.75</td>\n",
       "      <td>187.12</td>\n",
       "      <td>6</td>\n",
       "      <td>3</td>\n",
       "    </tr>\n",
       "  </tbody>\n",
       "</table>\n",
       "<p>264 rows × 14 columns</p>\n",
       "</div>"
      ],
      "text/plain": [
       "         Date  Issue Size (in crores)     QIB     HNI    RII  Total   Issue  \\\n",
       "0    29-07-21                  500.00    2.55    9.78  13.36   9.50  1083.0   \n",
       "1    23-07-21                 9375.00   51.79   32.96   7.45  38.25    76.0   \n",
       "2    19-07-21                 1546.00  156.37  206.43   9.00  93.41   900.0   \n",
       "3    19-07-21                  963.28   93.18   73.01   4.89  43.48   837.0   \n",
       "4    07-07-21                  800.00    2.64    1.36   4.40   3.25   296.0   \n",
       "..        ...                     ...     ...     ...    ...    ...     ...   \n",
       "259  19-02-10                    0.00    0.52    1.52   2.26   1.12    75.0   \n",
       "260  15-02-10                  199.80    1.12    3.65   0.62   1.22   165.0   \n",
       "261  15-02-10                   56.25    0.99   16.60   6.25   5.17    75.0   \n",
       "262  08-02-10                  328.70   59.39   51.95   3.79  31.11   145.0   \n",
       "263  03-02-10                  189.80   48.44  106.02  11.08  43.22   165.0   \n",
       "\n",
       "     Listing Open  Listing Close  Listing Gains(%)       CMP  \\\n",
       "0         2111.80        2310.25            113.32  2,268.50   \n",
       "1          115.00         125.85             65.59    133.35   \n",
       "2         1784.40        1585.20             76.13  1,682.80   \n",
       "3         1700.00        1746.80            108.70  1,730.85   \n",
       "4          360.00         335.45             13.33    337.40   \n",
       "..            ...            ...               ...       ...   \n",
       "259         70.00          71.10             -5.20    870.00   \n",
       "260        155.90         146.38            -11.28     21.70   \n",
       "261         88.00          87.85             17.13      4.06   \n",
       "262        160.00         114.50            -21.03  3,770.20   \n",
       "263        178.35         184.51             11.82    473.75   \n",
       "\n",
       "     Current  Gains (%)    r  target  \n",
       "0                109.46  198       1  \n",
       "1                 75.46   10       3  \n",
       "2                 86.98 -199       3  \n",
       "3                106.79   46       2  \n",
       "4                 13.99  -24       3  \n",
       "..                  ...  ...     ...  \n",
       "259             1060.00    1       2  \n",
       "260              -86.85   -9       3  \n",
       "261              -94.59    0       3  \n",
       "262             2500.14  -45       3  \n",
       "263              187.12    6       3  \n",
       "\n",
       "[264 rows x 14 columns]"
      ]
     },
     "execution_count": 13,
     "metadata": {},
     "output_type": "execute_result"
    }
   ],
   "source": [
    "# preparing data for the model\n",
    "de.drop(columns=['Profile'],inplace=True)\n",
    "de.drop(columns=['IPO Name'],inplace=True)\n",
    "de"
   ]
  },
  {
   "cell_type": "code",
   "execution_count": 14,
   "id": "7caa5924",
   "metadata": {
    "execution": {
     "iopub.execute_input": "2022-09-14T16:54:53.996442Z",
     "iopub.status.busy": "2022-09-14T16:54:53.995155Z",
     "iopub.status.idle": "2022-09-14T16:54:54.035369Z",
     "shell.execute_reply": "2022-09-14T16:54:54.033791Z"
    },
    "papermill": {
     "duration": 0.0539,
     "end_time": "2022-09-14T16:54:54.038501",
     "exception": false,
     "start_time": "2022-09-14T16:54:53.984601",
     "status": "completed"
    },
    "tags": []
   },
   "outputs": [
    {
     "name": "stdout",
     "output_type": "stream",
     "text": [
      "Date                      datetime64[ns]\n",
      "Issue Size (in crores)           float64\n",
      "QIB                              float64\n",
      "HNI                              float64\n",
      "RII                              float64\n",
      "Total                            float64\n",
      "Issue                            float64\n",
      "Listing Open                     float64\n",
      "Listing Close                    float64\n",
      "Listing Gains(%)                 float64\n",
      "CMP                               object\n",
      "Current  Gains (%)               float64\n",
      "r                                  int64\n",
      "target                             int64\n",
      "dtype: object\n"
     ]
    },
    {
     "data": {
      "text/plain": [
       "Date                      0\n",
       "Issue Size (in crores)    0\n",
       "QIB                       0\n",
       "HNI                       0\n",
       "RII                       0\n",
       "Total                     0\n",
       "Issue                     0\n",
       "Listing Open              0\n",
       "Listing Close             0\n",
       "Listing Gains(%)          0\n",
       "CMP                       0\n",
       "Current  Gains (%)        2\n",
       "r                         0\n",
       "target                    0\n",
       "dtype: int64"
      ]
     },
     "execution_count": 14,
     "metadata": {},
     "output_type": "execute_result"
    }
   ],
   "source": [
    "de['Date']=pd.to_datetime(de['Date'])\n",
    "print(de.dtypes)\n",
    "de.isna().sum()"
   ]
  },
  {
   "cell_type": "code",
   "execution_count": 15,
   "id": "c90d6c27",
   "metadata": {
    "execution": {
     "iopub.execute_input": "2022-09-14T16:54:54.059834Z",
     "iopub.status.busy": "2022-09-14T16:54:54.059392Z",
     "iopub.status.idle": "2022-09-14T16:54:54.067864Z",
     "shell.execute_reply": "2022-09-14T16:54:54.066731Z"
    },
    "papermill": {
     "duration": 0.022192,
     "end_time": "2022-09-14T16:54:54.070304",
     "exception": false,
     "start_time": "2022-09-14T16:54:54.048112",
     "status": "completed"
    },
    "tags": []
   },
   "outputs": [],
   "source": [
    "de.dropna(inplace=True)\n",
    "de.set_index('Date',inplace=True)"
   ]
  },
  {
   "cell_type": "code",
   "execution_count": 16,
   "id": "1d56f151",
   "metadata": {
    "execution": {
     "iopub.execute_input": "2022-09-14T16:54:54.092448Z",
     "iopub.status.busy": "2022-09-14T16:54:54.091592Z",
     "iopub.status.idle": "2022-09-14T16:54:54.102298Z",
     "shell.execute_reply": "2022-09-14T16:54:54.101240Z"
    },
    "papermill": {
     "duration": 0.0251,
     "end_time": "2022-09-14T16:54:54.104868",
     "exception": false,
     "start_time": "2022-09-14T16:54:54.079768",
     "status": "completed"
    },
    "tags": []
   },
   "outputs": [],
   "source": [
    "de.drop(columns=['r'],inplace=True)\n",
    "de.drop_duplicates(inplace=True)\n",
    "de.reset_index(inplace=True,drop=True) # as it not the time series data so dates are not so important"
   ]
  },
  {
   "cell_type": "code",
   "execution_count": 17,
   "id": "1de47b4b",
   "metadata": {
    "execution": {
     "iopub.execute_input": "2022-09-14T16:54:54.125839Z",
     "iopub.status.busy": "2022-09-14T16:54:54.125409Z",
     "iopub.status.idle": "2022-09-14T16:54:54.143722Z",
     "shell.execute_reply": "2022-09-14T16:54:54.142671Z"
    },
    "papermill": {
     "duration": 0.031752,
     "end_time": "2022-09-14T16:54:54.146096",
     "exception": false,
     "start_time": "2022-09-14T16:54:54.114344",
     "status": "completed"
    },
    "tags": []
   },
   "outputs": [
    {
     "data": {
      "text/html": [
       "<div>\n",
       "<style scoped>\n",
       "    .dataframe tbody tr th:only-of-type {\n",
       "        vertical-align: middle;\n",
       "    }\n",
       "\n",
       "    .dataframe tbody tr th {\n",
       "        vertical-align: top;\n",
       "    }\n",
       "\n",
       "    .dataframe thead th {\n",
       "        text-align: right;\n",
       "    }\n",
       "</style>\n",
       "<table border=\"1\" class=\"dataframe\">\n",
       "  <thead>\n",
       "    <tr style=\"text-align: right;\">\n",
       "      <th></th>\n",
       "      <th>Issue Size (in crores)</th>\n",
       "      <th>QIB</th>\n",
       "      <th>HNI</th>\n",
       "      <th>RII</th>\n",
       "      <th>Total</th>\n",
       "      <th>Issue</th>\n",
       "      <th>Listing Open</th>\n",
       "      <th>Listing Close</th>\n",
       "      <th>Listing Gains(%)</th>\n",
       "      <th>CMP</th>\n",
       "      <th>Current  Gains (%)</th>\n",
       "      <th>target</th>\n",
       "    </tr>\n",
       "  </thead>\n",
       "  <tbody>\n",
       "    <tr>\n",
       "      <th>122</th>\n",
       "      <td>479.21</td>\n",
       "      <td>73.18</td>\n",
       "      <td>225.3</td>\n",
       "      <td>8.73</td>\n",
       "      <td>73.55</td>\n",
       "      <td>446.0</td>\n",
       "      <td>662.0</td>\n",
       "      <td>618.1</td>\n",
       "      <td>38.59</td>\n",
       "      <td>1,306.50</td>\n",
       "      <td>192.94</td>\n",
       "      <td>3</td>\n",
       "    </tr>\n",
       "  </tbody>\n",
       "</table>\n",
       "</div>"
      ],
      "text/plain": [
       "     Issue Size (in crores)    QIB    HNI   RII  Total  Issue  Listing Open  \\\n",
       "122                  479.21  73.18  225.3  8.73  73.55  446.0         662.0   \n",
       "\n",
       "     Listing Close  Listing Gains(%)       CMP  Current  Gains (%)  target  \n",
       "122          618.1             38.59  1,306.50              192.94       3  "
      ]
     },
     "execution_count": 17,
     "metadata": {},
     "output_type": "execute_result"
    }
   ],
   "source": [
    "de.sample()\n"
   ]
  },
  {
   "cell_type": "code",
   "execution_count": 18,
   "id": "057b38f1",
   "metadata": {
    "execution": {
     "iopub.execute_input": "2022-09-14T16:54:54.167645Z",
     "iopub.status.busy": "2022-09-14T16:54:54.166645Z",
     "iopub.status.idle": "2022-09-14T16:54:54.177547Z",
     "shell.execute_reply": "2022-09-14T16:54:54.175588Z"
    },
    "papermill": {
     "duration": 0.024934,
     "end_time": "2022-09-14T16:54:54.180693",
     "exception": false,
     "start_time": "2022-09-14T16:54:54.155759",
     "status": "completed"
    },
    "tags": []
   },
   "outputs": [
    {
     "name": "stdout",
     "output_type": "stream",
     "text": [
      "Index(['Issue Size (in crores)', 'QIB', 'HNI', 'RII', 'Total', 'Issue',\n",
      "       'Listing Open', 'Listing Close', 'Listing Gains(%)', 'CMP',\n",
      "       'Current  Gains (%)', 'target'],\n",
      "      dtype='object')\n"
     ]
    },
    {
     "data": {
      "text/plain": [
       "0      2,268.50\n",
       "1        133.35\n",
       "2      1,682.80\n",
       "3      1,730.85\n",
       "4        337.40\n",
       "         ...   \n",
       "257      870.00\n",
       "258       21.70\n",
       "259        4.06\n",
       "260    3,770.20\n",
       "261      473.75\n",
       "Name: CMP, Length: 262, dtype: object"
      ]
     },
     "execution_count": 18,
     "metadata": {},
     "output_type": "execute_result"
    }
   ],
   "source": [
    "print(de.columns)\n",
    "# hence due to the comma we have the type is the object so we remove the comma by the fnunction change\n",
    "de['CMP']"
   ]
  },
  {
   "cell_type": "code",
   "execution_count": 19,
   "id": "79d2e41f",
   "metadata": {
    "execution": {
     "iopub.execute_input": "2022-09-14T16:54:54.203253Z",
     "iopub.status.busy": "2022-09-14T16:54:54.202003Z",
     "iopub.status.idle": "2022-09-14T16:54:54.209614Z",
     "shell.execute_reply": "2022-09-14T16:54:54.208725Z"
    },
    "papermill": {
     "duration": 0.021331,
     "end_time": "2022-09-14T16:54:54.212143",
     "exception": false,
     "start_time": "2022-09-14T16:54:54.190812",
     "status": "completed"
    },
    "tags": []
   },
   "outputs": [],
   "source": [
    "def change(x):\n",
    "    f=[]\n",
    "    f=x.split(',')\n",
    "    t=''.join(f)\n",
    "    f.clear()\n",
    "    return t\n",
    "\n",
    "de[\"CMP\"]=de[\"CMP\"].apply(change)"
   ]
  },
  {
   "cell_type": "code",
   "execution_count": 20,
   "id": "6bd10ca6",
   "metadata": {
    "execution": {
     "iopub.execute_input": "2022-09-14T16:54:54.234333Z",
     "iopub.status.busy": "2022-09-14T16:54:54.233438Z",
     "iopub.status.idle": "2022-09-14T16:54:54.604734Z",
     "shell.execute_reply": "2022-09-14T16:54:54.603552Z"
    },
    "papermill": {
     "duration": 0.386209,
     "end_time": "2022-09-14T16:54:54.608085",
     "exception": false,
     "start_time": "2022-09-14T16:54:54.221876",
     "status": "completed"
    },
    "tags": []
   },
   "outputs": [],
   "source": [
    "from sklearn.ensemble import RandomForestClassifier\n",
    "from sklearn.model_selection import train_test_split\n",
    "from sklearn.model_selection import GridSearchCV"
   ]
  },
  {
   "cell_type": "code",
   "execution_count": 21,
   "id": "de872545",
   "metadata": {
    "execution": {
     "iopub.execute_input": "2022-09-14T16:54:54.629683Z",
     "iopub.status.busy": "2022-09-14T16:54:54.629231Z",
     "iopub.status.idle": "2022-09-14T16:54:54.639924Z",
     "shell.execute_reply": "2022-09-14T16:54:54.638813Z"
    },
    "papermill": {
     "duration": 0.024547,
     "end_time": "2022-09-14T16:54:54.642503",
     "exception": false,
     "start_time": "2022-09-14T16:54:54.617956",
     "status": "completed"
    },
    "tags": []
   },
   "outputs": [],
   "source": [
    "x=de.iloc[:,:-1]\n",
    "y=de.iloc[:,-1]\n",
    "model=RandomForestClassifier()\n",
    "x_train,x_test,y_train,y_test=train_test_split(x,y,test_size=0.2)\n",
    "parameterR={'max_depth':[3,2,4,5,6,7],\n",
    "           'min_samples_split':[3,4,5,6],\n",
    "           'n_estimators':[20,40,60,70,80],\n",
    "           }\n",
    "def best(model,parameter,datax,datay):\n",
    "    best=GridSearchCV(model,parameter,cv=10,scoring='f1_macro',n_jobs=-1)\n",
    "    best.fit(datax,datay)\n",
    "    return best.best_estimator_\n",
    "\n"
   ]
  },
  {
   "cell_type": "markdown",
   "id": "6b420b06",
   "metadata": {
    "papermill": {
     "duration": 0.009502,
     "end_time": "2022-09-14T16:54:54.661885",
     "exception": false,
     "start_time": "2022-09-14T16:54:54.652383",
     "status": "completed"
    },
    "tags": []
   },
   "source": []
  },
  {
   "cell_type": "code",
   "execution_count": 22,
   "id": "720ac50f",
   "metadata": {
    "execution": {
     "iopub.execute_input": "2022-09-14T16:54:54.683801Z",
     "iopub.status.busy": "2022-09-14T16:54:54.682965Z",
     "iopub.status.idle": "2022-09-14T16:55:40.647509Z",
     "shell.execute_reply": "2022-09-14T16:55:40.646381Z"
    },
    "papermill": {
     "duration": 45.987636,
     "end_time": "2022-09-14T16:55:40.659310",
     "exception": false,
     "start_time": "2022-09-14T16:54:54.671674",
     "status": "completed"
    },
    "tags": []
   },
   "outputs": [
    {
     "data": {
      "text/plain": [
       "0.8899521531100478"
      ]
     },
     "execution_count": 22,
     "metadata": {},
     "output_type": "execute_result"
    }
   ],
   "source": [
    "mk=best(model,parameterR,x_train,y_train)\n",
    "from sklearn.metrics import accuracy_score\n",
    "pred=mk.predict(x_train)\n",
    "accuracy_score(y_train,pred)"
   ]
  },
  {
   "cell_type": "code",
   "execution_count": 23,
   "id": "57c7b28f",
   "metadata": {
    "execution": {
     "iopub.execute_input": "2022-09-14T16:55:40.680868Z",
     "iopub.status.busy": "2022-09-14T16:55:40.680076Z",
     "iopub.status.idle": "2022-09-14T16:55:40.692182Z",
     "shell.execute_reply": "2022-09-14T16:55:40.691281Z"
    },
    "papermill": {
     "duration": 0.025471,
     "end_time": "2022-09-14T16:55:40.694371",
     "exception": false,
     "start_time": "2022-09-14T16:55:40.668900",
     "status": "completed"
    },
    "tags": []
   },
   "outputs": [
    {
     "data": {
      "text/plain": [
       "0.6415094339622641"
      ]
     },
     "execution_count": 23,
     "metadata": {},
     "output_type": "execute_result"
    }
   ],
   "source": [
    "pred=mk.predict(x_test)\n",
    "accuracy_score(y_test,pred)"
   ]
  }
 ],
 "metadata": {
  "kernelspec": {
   "display_name": "Python 3",
   "language": "python",
   "name": "python3"
  },
  "language_info": {
   "codemirror_mode": {
    "name": "ipython",
    "version": 3
   },
   "file_extension": ".py",
   "mimetype": "text/x-python",
   "name": "python",
   "nbconvert_exporter": "python",
   "pygments_lexer": "ipython3",
   "version": "3.7.12"
  },
  "papermill": {
   "default_parameters": {},
   "duration": 133.652251,
   "end_time": "2022-09-14T16:55:43.327734",
   "environment_variables": {},
   "exception": null,
   "input_path": "__notebook__.ipynb",
   "output_path": "__notebook__.ipynb",
   "parameters": {},
   "start_time": "2022-09-14T16:53:29.675483",
   "version": "2.3.4"
  },
  "widgets": {
   "application/vnd.jupyter.widget-state+json": {
    "state": {
     "06e2ab5afdc643d299bc06aea1b10c24": {
      "model_module": "@jupyter-widgets/base",
      "model_module_version": "1.2.0",
      "model_name": "LayoutModel",
      "state": {
       "_model_module": "@jupyter-widgets/base",
       "_model_module_version": "1.2.0",
       "_model_name": "LayoutModel",
       "_view_count": null,
       "_view_module": "@jupyter-widgets/base",
       "_view_module_version": "1.2.0",
       "_view_name": "LayoutView",
       "align_content": null,
       "align_items": null,
       "align_self": null,
       "border": null,
       "bottom": null,
       "display": null,
       "flex": null,
       "flex_flow": null,
       "grid_area": null,
       "grid_auto_columns": null,
       "grid_auto_flow": null,
       "grid_auto_rows": null,
       "grid_column": null,
       "grid_gap": null,
       "grid_row": null,
       "grid_template_areas": null,
       "grid_template_columns": null,
       "grid_template_rows": null,
       "height": null,
       "justify_content": null,
       "justify_items": null,
       "left": null,
       "margin": null,
       "max_height": null,
       "max_width": null,
       "min_height": null,
       "min_width": null,
       "object_fit": null,
       "object_position": null,
       "order": null,
       "overflow": null,
       "overflow_x": null,
       "overflow_y": null,
       "padding": null,
       "right": null,
       "top": null,
       "visibility": null,
       "width": null
      }
     },
     "0805bb384bfe4f51885c883670c510a9": {
      "model_module": "@jupyter-widgets/controls",
      "model_module_version": "1.5.0",
      "model_name": "HTMLModel",
      "state": {
       "_dom_classes": [],
       "_model_module": "@jupyter-widgets/controls",
       "_model_module_version": "1.5.0",
       "_model_name": "HTMLModel",
       "_view_count": null,
       "_view_module": "@jupyter-widgets/controls",
       "_view_module_version": "1.5.0",
       "_view_name": "HTMLView",
       "description": "",
       "description_tooltip": null,
       "layout": "IPY_MODEL_c45d0f05be45452e8c85a66428b8d486",
       "placeholder": "​",
       "style": "IPY_MODEL_8e9ef3b9e0244b718d53edc9feb362ba",
       "value": " 1/1 [00:03&lt;00:00,  3.57s/it]"
      }
     },
     "125678afb1e848d4b9de933b81f61d54": {
      "model_module": "@jupyter-widgets/controls",
      "model_module_version": "1.5.0",
      "model_name": "HTMLModel",
      "state": {
       "_dom_classes": [],
       "_model_module": "@jupyter-widgets/controls",
       "_model_module_version": "1.5.0",
       "_model_name": "HTMLModel",
       "_view_count": null,
       "_view_module": "@jupyter-widgets/controls",
       "_view_module_version": "1.5.0",
       "_view_name": "HTMLView",
       "description": "",
       "description_tooltip": null,
       "layout": "IPY_MODEL_269c5738b95e465382103a892712953a",
       "placeholder": "​",
       "style": "IPY_MODEL_6609d5a560a34f90b65b334527d2668f",
       "value": " 151/151 [00:29&lt;00:00,  3.88it/s, Completed]"
      }
     },
     "15a94bfa8fc142969e92978f09f4bfcd": {
      "model_module": "@jupyter-widgets/base",
      "model_module_version": "1.2.0",
      "model_name": "LayoutModel",
      "state": {
       "_model_module": "@jupyter-widgets/base",
       "_model_module_version": "1.2.0",
       "_model_name": "LayoutModel",
       "_view_count": null,
       "_view_module": "@jupyter-widgets/base",
       "_view_module_version": "1.2.0",
       "_view_name": "LayoutView",
       "align_content": null,
       "align_items": null,
       "align_self": null,
       "border": null,
       "bottom": null,
       "display": null,
       "flex": null,
       "flex_flow": null,
       "grid_area": null,
       "grid_auto_columns": null,
       "grid_auto_flow": null,
       "grid_auto_rows": null,
       "grid_column": null,
       "grid_gap": null,
       "grid_row": null,
       "grid_template_areas": null,
       "grid_template_columns": null,
       "grid_template_rows": null,
       "height": null,
       "justify_content": null,
       "justify_items": null,
       "left": null,
       "margin": null,
       "max_height": null,
       "max_width": null,
       "min_height": null,
       "min_width": null,
       "object_fit": null,
       "object_position": null,
       "order": null,
       "overflow": null,
       "overflow_x": null,
       "overflow_y": null,
       "padding": null,
       "right": null,
       "top": null,
       "visibility": null,
       "width": null
      }
     },
     "267b344c500b4f7aab547f8a4d81e783": {
      "model_module": "@jupyter-widgets/controls",
      "model_module_version": "1.5.0",
      "model_name": "FloatProgressModel",
      "state": {
       "_dom_classes": [],
       "_model_module": "@jupyter-widgets/controls",
       "_model_module_version": "1.5.0",
       "_model_name": "FloatProgressModel",
       "_view_count": null,
       "_view_module": "@jupyter-widgets/controls",
       "_view_module_version": "1.5.0",
       "_view_name": "ProgressView",
       "bar_style": "success",
       "description": "",
       "description_tooltip": null,
       "layout": "IPY_MODEL_501b0ae175a14b8fbdd585e9038a5aa3",
       "max": 1.0,
       "min": 0.0,
       "orientation": "horizontal",
       "style": "IPY_MODEL_29204e0c73314520acb09fdc753d7925",
       "value": 1.0
      }
     },
     "269c5738b95e465382103a892712953a": {
      "model_module": "@jupyter-widgets/base",
      "model_module_version": "1.2.0",
      "model_name": "LayoutModel",
      "state": {
       "_model_module": "@jupyter-widgets/base",
       "_model_module_version": "1.2.0",
       "_model_name": "LayoutModel",
       "_view_count": null,
       "_view_module": "@jupyter-widgets/base",
       "_view_module_version": "1.2.0",
       "_view_name": "LayoutView",
       "align_content": null,
       "align_items": null,
       "align_self": null,
       "border": null,
       "bottom": null,
       "display": null,
       "flex": null,
       "flex_flow": null,
       "grid_area": null,
       "grid_auto_columns": null,
       "grid_auto_flow": null,
       "grid_auto_rows": null,
       "grid_column": null,
       "grid_gap": null,
       "grid_row": null,
       "grid_template_areas": null,
       "grid_template_columns": null,
       "grid_template_rows": null,
       "height": null,
       "justify_content": null,
       "justify_items": null,
       "left": null,
       "margin": null,
       "max_height": null,
       "max_width": null,
       "min_height": null,
       "min_width": null,
       "object_fit": null,
       "object_position": null,
       "order": null,
       "overflow": null,
       "overflow_x": null,
       "overflow_y": null,
       "padding": null,
       "right": null,
       "top": null,
       "visibility": null,
       "width": null
      }
     },
     "26e336f23a864f12ad72718b8706c1f4": {
      "model_module": "@jupyter-widgets/controls",
      "model_module_version": "1.5.0",
      "model_name": "HTMLModel",
      "state": {
       "_dom_classes": [],
       "_model_module": "@jupyter-widgets/controls",
       "_model_module_version": "1.5.0",
       "_model_name": "HTMLModel",
       "_view_count": null,
       "_view_module": "@jupyter-widgets/controls",
       "_view_module_version": "1.5.0",
       "_view_name": "HTMLView",
       "description": "",
       "description_tooltip": null,
       "layout": "IPY_MODEL_15a94bfa8fc142969e92978f09f4bfcd",
       "placeholder": "​",
       "style": "IPY_MODEL_d9914da4f3cb4239bea1aa2f28ed01aa",
       "value": " 1/1 [00:09&lt;00:00,  9.38s/it]"
      }
     },
     "29204e0c73314520acb09fdc753d7925": {
      "model_module": "@jupyter-widgets/controls",
      "model_module_version": "1.5.0",
      "model_name": "ProgressStyleModel",
      "state": {
       "_model_module": "@jupyter-widgets/controls",
       "_model_module_version": "1.5.0",
       "_model_name": "ProgressStyleModel",
       "_view_count": null,
       "_view_module": "@jupyter-widgets/base",
       "_view_module_version": "1.2.0",
       "_view_name": "StyleView",
       "bar_color": null,
       "description_width": ""
      }
     },
     "2bd9cf36f9644676abb018a55d2f9785": {
      "model_module": "@jupyter-widgets/base",
      "model_module_version": "1.2.0",
      "model_name": "LayoutModel",
      "state": {
       "_model_module": "@jupyter-widgets/base",
       "_model_module_version": "1.2.0",
       "_model_name": "LayoutModel",
       "_view_count": null,
       "_view_module": "@jupyter-widgets/base",
       "_view_module_version": "1.2.0",
       "_view_name": "LayoutView",
       "align_content": null,
       "align_items": null,
       "align_self": null,
       "border": null,
       "bottom": null,
       "display": null,
       "flex": null,
       "flex_flow": null,
       "grid_area": null,
       "grid_auto_columns": null,
       "grid_auto_flow": null,
       "grid_auto_rows": null,
       "grid_column": null,
       "grid_gap": null,
       "grid_row": null,
       "grid_template_areas": null,
       "grid_template_columns": null,
       "grid_template_rows": null,
       "height": null,
       "justify_content": null,
       "justify_items": null,
       "left": null,
       "margin": null,
       "max_height": null,
       "max_width": null,
       "min_height": null,
       "min_width": null,
       "object_fit": null,
       "object_position": null,
       "order": null,
       "overflow": null,
       "overflow_x": null,
       "overflow_y": null,
       "padding": null,
       "right": null,
       "top": null,
       "visibility": null,
       "width": null
      }
     },
     "4bdd900375204338aa7cec22f1eab925": {
      "model_module": "@jupyter-widgets/controls",
      "model_module_version": "1.5.0",
      "model_name": "FloatProgressModel",
      "state": {
       "_dom_classes": [],
       "_model_module": "@jupyter-widgets/controls",
       "_model_module_version": "1.5.0",
       "_model_name": "FloatProgressModel",
       "_view_count": null,
       "_view_module": "@jupyter-widgets/controls",
       "_view_module_version": "1.5.0",
       "_view_name": "ProgressView",
       "bar_style": "success",
       "description": "",
       "description_tooltip": null,
       "layout": "IPY_MODEL_9f817ebf4c16496e8d29beb7fd73c0d2",
       "max": 1.0,
       "min": 0.0,
       "orientation": "horizontal",
       "style": "IPY_MODEL_70b4130e51d54993bceb126b40da9aba",
       "value": 1.0
      }
     },
     "4d97def80a414026b1c617e3454a02eb": {
      "model_module": "@jupyter-widgets/base",
      "model_module_version": "1.2.0",
      "model_name": "LayoutModel",
      "state": {
       "_model_module": "@jupyter-widgets/base",
       "_model_module_version": "1.2.0",
       "_model_name": "LayoutModel",
       "_view_count": null,
       "_view_module": "@jupyter-widgets/base",
       "_view_module_version": "1.2.0",
       "_view_name": "LayoutView",
       "align_content": null,
       "align_items": null,
       "align_self": null,
       "border": null,
       "bottom": null,
       "display": null,
       "flex": null,
       "flex_flow": null,
       "grid_area": null,
       "grid_auto_columns": null,
       "grid_auto_flow": null,
       "grid_auto_rows": null,
       "grid_column": null,
       "grid_gap": null,
       "grid_row": null,
       "grid_template_areas": null,
       "grid_template_columns": null,
       "grid_template_rows": null,
       "height": null,
       "justify_content": null,
       "justify_items": null,
       "left": null,
       "margin": null,
       "max_height": null,
       "max_width": null,
       "min_height": null,
       "min_width": null,
       "object_fit": null,
       "object_position": null,
       "order": null,
       "overflow": null,
       "overflow_x": null,
       "overflow_y": null,
       "padding": null,
       "right": null,
       "top": null,
       "visibility": null,
       "width": null
      }
     },
     "4e0740c251364a57b5d9ff9809db9e7a": {
      "model_module": "@jupyter-widgets/base",
      "model_module_version": "1.2.0",
      "model_name": "LayoutModel",
      "state": {
       "_model_module": "@jupyter-widgets/base",
       "_model_module_version": "1.2.0",
       "_model_name": "LayoutModel",
       "_view_count": null,
       "_view_module": "@jupyter-widgets/base",
       "_view_module_version": "1.2.0",
       "_view_name": "LayoutView",
       "align_content": null,
       "align_items": null,
       "align_self": null,
       "border": null,
       "bottom": null,
       "display": null,
       "flex": null,
       "flex_flow": null,
       "grid_area": null,
       "grid_auto_columns": null,
       "grid_auto_flow": null,
       "grid_auto_rows": null,
       "grid_column": null,
       "grid_gap": null,
       "grid_row": null,
       "grid_template_areas": null,
       "grid_template_columns": null,
       "grid_template_rows": null,
       "height": null,
       "justify_content": null,
       "justify_items": null,
       "left": null,
       "margin": null,
       "max_height": null,
       "max_width": null,
       "min_height": null,
       "min_width": null,
       "object_fit": null,
       "object_position": null,
       "order": null,
       "overflow": null,
       "overflow_x": null,
       "overflow_y": null,
       "padding": null,
       "right": null,
       "top": null,
       "visibility": null,
       "width": null
      }
     },
     "501b0ae175a14b8fbdd585e9038a5aa3": {
      "model_module": "@jupyter-widgets/base",
      "model_module_version": "1.2.0",
      "model_name": "LayoutModel",
      "state": {
       "_model_module": "@jupyter-widgets/base",
       "_model_module_version": "1.2.0",
       "_model_name": "LayoutModel",
       "_view_count": null,
       "_view_module": "@jupyter-widgets/base",
       "_view_module_version": "1.2.0",
       "_view_name": "LayoutView",
       "align_content": null,
       "align_items": null,
       "align_self": null,
       "border": null,
       "bottom": null,
       "display": null,
       "flex": null,
       "flex_flow": null,
       "grid_area": null,
       "grid_auto_columns": null,
       "grid_auto_flow": null,
       "grid_auto_rows": null,
       "grid_column": null,
       "grid_gap": null,
       "grid_row": null,
       "grid_template_areas": null,
       "grid_template_columns": null,
       "grid_template_rows": null,
       "height": null,
       "justify_content": null,
       "justify_items": null,
       "left": null,
       "margin": null,
       "max_height": null,
       "max_width": null,
       "min_height": null,
       "min_width": null,
       "object_fit": null,
       "object_position": null,
       "order": null,
       "overflow": null,
       "overflow_x": null,
       "overflow_y": null,
       "padding": null,
       "right": null,
       "top": null,
       "visibility": null,
       "width": null
      }
     },
     "502bc9d0cf6a4710822a096a949995b2": {
      "model_module": "@jupyter-widgets/controls",
      "model_module_version": "1.5.0",
      "model_name": "ProgressStyleModel",
      "state": {
       "_model_module": "@jupyter-widgets/controls",
       "_model_module_version": "1.5.0",
       "_model_name": "ProgressStyleModel",
       "_view_count": null,
       "_view_module": "@jupyter-widgets/base",
       "_view_module_version": "1.2.0",
       "_view_name": "StyleView",
       "bar_color": null,
       "description_width": ""
      }
     },
     "5619eec3f24a4bbb8331cda99686fc61": {
      "model_module": "@jupyter-widgets/controls",
      "model_module_version": "1.5.0",
      "model_name": "HBoxModel",
      "state": {
       "_dom_classes": [],
       "_model_module": "@jupyter-widgets/controls",
       "_model_module_version": "1.5.0",
       "_model_name": "HBoxModel",
       "_view_count": null,
       "_view_module": "@jupyter-widgets/controls",
       "_view_module_version": "1.5.0",
       "_view_name": "HBoxView",
       "box_style": "",
       "children": [
        "IPY_MODEL_6f4e00496a3542eebe403ecd6c21f1e3",
        "IPY_MODEL_267b344c500b4f7aab547f8a4d81e783",
        "IPY_MODEL_0805bb384bfe4f51885c883670c510a9"
       ],
       "layout": "IPY_MODEL_fd5f17b71c9346ccade0adce44b6787b"
      }
     },
     "6609d5a560a34f90b65b334527d2668f": {
      "model_module": "@jupyter-widgets/controls",
      "model_module_version": "1.5.0",
      "model_name": "DescriptionStyleModel",
      "state": {
       "_model_module": "@jupyter-widgets/controls",
       "_model_module_version": "1.5.0",
       "_model_name": "DescriptionStyleModel",
       "_view_count": null,
       "_view_module": "@jupyter-widgets/base",
       "_view_module_version": "1.2.0",
       "_view_name": "StyleView",
       "description_width": ""
      }
     },
     "6f4e00496a3542eebe403ecd6c21f1e3": {
      "model_module": "@jupyter-widgets/controls",
      "model_module_version": "1.5.0",
      "model_name": "HTMLModel",
      "state": {
       "_dom_classes": [],
       "_model_module": "@jupyter-widgets/controls",
       "_model_module_version": "1.5.0",
       "_model_name": "HTMLModel",
       "_view_count": null,
       "_view_module": "@jupyter-widgets/controls",
       "_view_module_version": "1.5.0",
       "_view_name": "HTMLView",
       "description": "",
       "description_tooltip": null,
       "layout": "IPY_MODEL_4e0740c251364a57b5d9ff9809db9e7a",
       "placeholder": "​",
       "style": "IPY_MODEL_b3d3739cbd8f49bca9c2c79e25a6311a",
       "value": "Render HTML: 100%"
      }
     },
     "70b4130e51d54993bceb126b40da9aba": {
      "model_module": "@jupyter-widgets/controls",
      "model_module_version": "1.5.0",
      "model_name": "ProgressStyleModel",
      "state": {
       "_model_module": "@jupyter-widgets/controls",
       "_model_module_version": "1.5.0",
       "_model_name": "ProgressStyleModel",
       "_view_count": null,
       "_view_module": "@jupyter-widgets/base",
       "_view_module_version": "1.2.0",
       "_view_name": "StyleView",
       "bar_color": null,
       "description_width": ""
      }
     },
     "72c903af3ecd447f80568112a5fa424f": {
      "model_module": "@jupyter-widgets/controls",
      "model_module_version": "1.5.0",
      "model_name": "DescriptionStyleModel",
      "state": {
       "_model_module": "@jupyter-widgets/controls",
       "_model_module_version": "1.5.0",
       "_model_name": "DescriptionStyleModel",
       "_view_count": null,
       "_view_module": "@jupyter-widgets/base",
       "_view_module_version": "1.2.0",
       "_view_name": "StyleView",
       "description_width": ""
      }
     },
     "787b924534c3457daf9d1884d08ee0fb": {
      "model_module": "@jupyter-widgets/base",
      "model_module_version": "1.2.0",
      "model_name": "LayoutModel",
      "state": {
       "_model_module": "@jupyter-widgets/base",
       "_model_module_version": "1.2.0",
       "_model_name": "LayoutModel",
       "_view_count": null,
       "_view_module": "@jupyter-widgets/base",
       "_view_module_version": "1.2.0",
       "_view_name": "LayoutView",
       "align_content": null,
       "align_items": null,
       "align_self": null,
       "border": null,
       "bottom": null,
       "display": null,
       "flex": null,
       "flex_flow": null,
       "grid_area": null,
       "grid_auto_columns": null,
       "grid_auto_flow": null,
       "grid_auto_rows": null,
       "grid_column": null,
       "grid_gap": null,
       "grid_row": null,
       "grid_template_areas": null,
       "grid_template_columns": null,
       "grid_template_rows": null,
       "height": null,
       "justify_content": null,
       "justify_items": null,
       "left": null,
       "margin": null,
       "max_height": null,
       "max_width": null,
       "min_height": null,
       "min_width": null,
       "object_fit": null,
       "object_position": null,
       "order": null,
       "overflow": null,
       "overflow_x": null,
       "overflow_y": null,
       "padding": null,
       "right": null,
       "top": null,
       "visibility": null,
       "width": null
      }
     },
     "7926bb98dabb436a9d7e01d03dce03f0": {
      "model_module": "@jupyter-widgets/controls",
      "model_module_version": "1.5.0",
      "model_name": "HBoxModel",
      "state": {
       "_dom_classes": [],
       "_model_module": "@jupyter-widgets/controls",
       "_model_module_version": "1.5.0",
       "_model_name": "HBoxModel",
       "_view_count": null,
       "_view_module": "@jupyter-widgets/controls",
       "_view_module_version": "1.5.0",
       "_view_name": "HBoxView",
       "box_style": "",
       "children": [
        "IPY_MODEL_cb04afab60304257b7fba6a27f5985bf",
        "IPY_MODEL_4bdd900375204338aa7cec22f1eab925",
        "IPY_MODEL_26e336f23a864f12ad72718b8706c1f4"
       ],
       "layout": "IPY_MODEL_90a859c805ab47c1be4078a042ca893b"
      }
     },
     "88d48cd29a07477e8a196da127898efe": {
      "model_module": "@jupyter-widgets/controls",
      "model_module_version": "1.5.0",
      "model_name": "DescriptionStyleModel",
      "state": {
       "_model_module": "@jupyter-widgets/controls",
       "_model_module_version": "1.5.0",
       "_model_name": "DescriptionStyleModel",
       "_view_count": null,
       "_view_module": "@jupyter-widgets/base",
       "_view_module_version": "1.2.0",
       "_view_name": "StyleView",
       "description_width": ""
      }
     },
     "8e9ef3b9e0244b718d53edc9feb362ba": {
      "model_module": "@jupyter-widgets/controls",
      "model_module_version": "1.5.0",
      "model_name": "DescriptionStyleModel",
      "state": {
       "_model_module": "@jupyter-widgets/controls",
       "_model_module_version": "1.5.0",
       "_model_name": "DescriptionStyleModel",
       "_view_count": null,
       "_view_module": "@jupyter-widgets/base",
       "_view_module_version": "1.2.0",
       "_view_name": "StyleView",
       "description_width": ""
      }
     },
     "90a859c805ab47c1be4078a042ca893b": {
      "model_module": "@jupyter-widgets/base",
      "model_module_version": "1.2.0",
      "model_name": "LayoutModel",
      "state": {
       "_model_module": "@jupyter-widgets/base",
       "_model_module_version": "1.2.0",
       "_model_name": "LayoutModel",
       "_view_count": null,
       "_view_module": "@jupyter-widgets/base",
       "_view_module_version": "1.2.0",
       "_view_name": "LayoutView",
       "align_content": null,
       "align_items": null,
       "align_self": null,
       "border": null,
       "bottom": null,
       "display": null,
       "flex": null,
       "flex_flow": null,
       "grid_area": null,
       "grid_auto_columns": null,
       "grid_auto_flow": null,
       "grid_auto_rows": null,
       "grid_column": null,
       "grid_gap": null,
       "grid_row": null,
       "grid_template_areas": null,
       "grid_template_columns": null,
       "grid_template_rows": null,
       "height": null,
       "justify_content": null,
       "justify_items": null,
       "left": null,
       "margin": null,
       "max_height": null,
       "max_width": null,
       "min_height": null,
       "min_width": null,
       "object_fit": null,
       "object_position": null,
       "order": null,
       "overflow": null,
       "overflow_x": null,
       "overflow_y": null,
       "padding": null,
       "right": null,
       "top": null,
       "visibility": null,
       "width": null
      }
     },
     "93bfdb916d6b45648cac99a066b95786": {
      "model_module": "@jupyter-widgets/base",
      "model_module_version": "1.2.0",
      "model_name": "LayoutModel",
      "state": {
       "_model_module": "@jupyter-widgets/base",
       "_model_module_version": "1.2.0",
       "_model_name": "LayoutModel",
       "_view_count": null,
       "_view_module": "@jupyter-widgets/base",
       "_view_module_version": "1.2.0",
       "_view_name": "LayoutView",
       "align_content": null,
       "align_items": null,
       "align_self": null,
       "border": null,
       "bottom": null,
       "display": null,
       "flex": null,
       "flex_flow": null,
       "grid_area": null,
       "grid_auto_columns": null,
       "grid_auto_flow": null,
       "grid_auto_rows": null,
       "grid_column": null,
       "grid_gap": null,
       "grid_row": null,
       "grid_template_areas": null,
       "grid_template_columns": null,
       "grid_template_rows": null,
       "height": null,
       "justify_content": null,
       "justify_items": null,
       "left": null,
       "margin": null,
       "max_height": null,
       "max_width": null,
       "min_height": null,
       "min_width": null,
       "object_fit": null,
       "object_position": null,
       "order": null,
       "overflow": null,
       "overflow_x": null,
       "overflow_y": null,
       "padding": null,
       "right": null,
       "top": null,
       "visibility": null,
       "width": null
      }
     },
     "9f817ebf4c16496e8d29beb7fd73c0d2": {
      "model_module": "@jupyter-widgets/base",
      "model_module_version": "1.2.0",
      "model_name": "LayoutModel",
      "state": {
       "_model_module": "@jupyter-widgets/base",
       "_model_module_version": "1.2.0",
       "_model_name": "LayoutModel",
       "_view_count": null,
       "_view_module": "@jupyter-widgets/base",
       "_view_module_version": "1.2.0",
       "_view_name": "LayoutView",
       "align_content": null,
       "align_items": null,
       "align_self": null,
       "border": null,
       "bottom": null,
       "display": null,
       "flex": null,
       "flex_flow": null,
       "grid_area": null,
       "grid_auto_columns": null,
       "grid_auto_flow": null,
       "grid_auto_rows": null,
       "grid_column": null,
       "grid_gap": null,
       "grid_row": null,
       "grid_template_areas": null,
       "grid_template_columns": null,
       "grid_template_rows": null,
       "height": null,
       "justify_content": null,
       "justify_items": null,
       "left": null,
       "margin": null,
       "max_height": null,
       "max_width": null,
       "min_height": null,
       "min_width": null,
       "object_fit": null,
       "object_position": null,
       "order": null,
       "overflow": null,
       "overflow_x": null,
       "overflow_y": null,
       "padding": null,
       "right": null,
       "top": null,
       "visibility": null,
       "width": null
      }
     },
     "a122d5ef075349e1b11606036575221f": {
      "model_module": "@jupyter-widgets/controls",
      "model_module_version": "1.5.0",
      "model_name": "FloatProgressModel",
      "state": {
       "_dom_classes": [],
       "_model_module": "@jupyter-widgets/controls",
       "_model_module_version": "1.5.0",
       "_model_name": "FloatProgressModel",
       "_view_count": null,
       "_view_module": "@jupyter-widgets/controls",
       "_view_module_version": "1.5.0",
       "_view_name": "ProgressView",
       "bar_style": "success",
       "description": "",
       "description_tooltip": null,
       "layout": "IPY_MODEL_fd5d640ae16e4dff9d10ad12d34859e7",
       "max": 1.0,
       "min": 0.0,
       "orientation": "horizontal",
       "style": "IPY_MODEL_502bc9d0cf6a4710822a096a949995b2",
       "value": 1.0
      }
     },
     "aae7a1be1ec34177b5163f9b914a182a": {
      "model_module": "@jupyter-widgets/controls",
      "model_module_version": "1.5.0",
      "model_name": "HTMLModel",
      "state": {
       "_dom_classes": [],
       "_model_module": "@jupyter-widgets/controls",
       "_model_module_version": "1.5.0",
       "_model_name": "HTMLModel",
       "_view_count": null,
       "_view_module": "@jupyter-widgets/controls",
       "_view_module_version": "1.5.0",
       "_view_name": "HTMLView",
       "description": "",
       "description_tooltip": null,
       "layout": "IPY_MODEL_787b924534c3457daf9d1884d08ee0fb",
       "placeholder": "​",
       "style": "IPY_MODEL_f07220287e5a4346aea5800538b4ad30",
       "value": "Summarize dataset: 100%"
      }
     },
     "ac5e89c9acc243688615b79106659a63": {
      "model_module": "@jupyter-widgets/controls",
      "model_module_version": "1.5.0",
      "model_name": "HBoxModel",
      "state": {
       "_dom_classes": [],
       "_model_module": "@jupyter-widgets/controls",
       "_model_module_version": "1.5.0",
       "_model_name": "HBoxModel",
       "_view_count": null,
       "_view_module": "@jupyter-widgets/controls",
       "_view_module_version": "1.5.0",
       "_view_name": "HBoxView",
       "box_style": "",
       "children": [
        "IPY_MODEL_c58cf3c9804e423ab73e4ff636efb52b",
        "IPY_MODEL_a122d5ef075349e1b11606036575221f",
        "IPY_MODEL_ca6c0e44aeb5406e8efecc3a9dde25bc"
       ],
       "layout": "IPY_MODEL_e3b085019f4247a1ac0514e60ded7013"
      }
     },
     "b3d3739cbd8f49bca9c2c79e25a6311a": {
      "model_module": "@jupyter-widgets/controls",
      "model_module_version": "1.5.0",
      "model_name": "DescriptionStyleModel",
      "state": {
       "_model_module": "@jupyter-widgets/controls",
       "_model_module_version": "1.5.0",
       "_model_name": "DescriptionStyleModel",
       "_view_count": null,
       "_view_module": "@jupyter-widgets/base",
       "_view_module_version": "1.2.0",
       "_view_name": "StyleView",
       "description_width": ""
      }
     },
     "b48cebbbcbf8481a93ffbc121e52a509": {
      "model_module": "@jupyter-widgets/controls",
      "model_module_version": "1.5.0",
      "model_name": "HBoxModel",
      "state": {
       "_dom_classes": [],
       "_model_module": "@jupyter-widgets/controls",
       "_model_module_version": "1.5.0",
       "_model_name": "HBoxModel",
       "_view_count": null,
       "_view_module": "@jupyter-widgets/controls",
       "_view_module_version": "1.5.0",
       "_view_name": "HBoxView",
       "box_style": "",
       "children": [
        "IPY_MODEL_aae7a1be1ec34177b5163f9b914a182a",
        "IPY_MODEL_c244294d779b48cf832b1fc17cc8d925",
        "IPY_MODEL_125678afb1e848d4b9de933b81f61d54"
       ],
       "layout": "IPY_MODEL_ee13958fc6644037a029c74259cd749f"
      }
     },
     "c244294d779b48cf832b1fc17cc8d925": {
      "model_module": "@jupyter-widgets/controls",
      "model_module_version": "1.5.0",
      "model_name": "FloatProgressModel",
      "state": {
       "_dom_classes": [],
       "_model_module": "@jupyter-widgets/controls",
       "_model_module_version": "1.5.0",
       "_model_name": "FloatProgressModel",
       "_view_count": null,
       "_view_module": "@jupyter-widgets/controls",
       "_view_module_version": "1.5.0",
       "_view_name": "ProgressView",
       "bar_style": "success",
       "description": "",
       "description_tooltip": null,
       "layout": "IPY_MODEL_93bfdb916d6b45648cac99a066b95786",
       "max": 5.0,
       "min": 0.0,
       "orientation": "horizontal",
       "style": "IPY_MODEL_d9fcd0142e8f4e7097c30a4a8ee6b87a",
       "value": 5.0
      }
     },
     "c45d0f05be45452e8c85a66428b8d486": {
      "model_module": "@jupyter-widgets/base",
      "model_module_version": "1.2.0",
      "model_name": "LayoutModel",
      "state": {
       "_model_module": "@jupyter-widgets/base",
       "_model_module_version": "1.2.0",
       "_model_name": "LayoutModel",
       "_view_count": null,
       "_view_module": "@jupyter-widgets/base",
       "_view_module_version": "1.2.0",
       "_view_name": "LayoutView",
       "align_content": null,
       "align_items": null,
       "align_self": null,
       "border": null,
       "bottom": null,
       "display": null,
       "flex": null,
       "flex_flow": null,
       "grid_area": null,
       "grid_auto_columns": null,
       "grid_auto_flow": null,
       "grid_auto_rows": null,
       "grid_column": null,
       "grid_gap": null,
       "grid_row": null,
       "grid_template_areas": null,
       "grid_template_columns": null,
       "grid_template_rows": null,
       "height": null,
       "justify_content": null,
       "justify_items": null,
       "left": null,
       "margin": null,
       "max_height": null,
       "max_width": null,
       "min_height": null,
       "min_width": null,
       "object_fit": null,
       "object_position": null,
       "order": null,
       "overflow": null,
       "overflow_x": null,
       "overflow_y": null,
       "padding": null,
       "right": null,
       "top": null,
       "visibility": null,
       "width": null
      }
     },
     "c58cf3c9804e423ab73e4ff636efb52b": {
      "model_module": "@jupyter-widgets/controls",
      "model_module_version": "1.5.0",
      "model_name": "HTMLModel",
      "state": {
       "_dom_classes": [],
       "_model_module": "@jupyter-widgets/controls",
       "_model_module_version": "1.5.0",
       "_model_name": "HTMLModel",
       "_view_count": null,
       "_view_module": "@jupyter-widgets/controls",
       "_view_module_version": "1.5.0",
       "_view_name": "HTMLView",
       "description": "",
       "description_tooltip": null,
       "layout": "IPY_MODEL_06e2ab5afdc643d299bc06aea1b10c24",
       "placeholder": "​",
       "style": "IPY_MODEL_88d48cd29a07477e8a196da127898efe",
       "value": "Export report to file: 100%"
      }
     },
     "ca6c0e44aeb5406e8efecc3a9dde25bc": {
      "model_module": "@jupyter-widgets/controls",
      "model_module_version": "1.5.0",
      "model_name": "HTMLModel",
      "state": {
       "_dom_classes": [],
       "_model_module": "@jupyter-widgets/controls",
       "_model_module_version": "1.5.0",
       "_model_name": "HTMLModel",
       "_view_count": null,
       "_view_module": "@jupyter-widgets/controls",
       "_view_module_version": "1.5.0",
       "_view_name": "HTMLView",
       "description": "",
       "description_tooltip": null,
       "layout": "IPY_MODEL_2bd9cf36f9644676abb018a55d2f9785",
       "placeholder": "​",
       "style": "IPY_MODEL_d61e27905c3a4896bb611c1fa8ef0772",
       "value": " 1/1 [00:00&lt;00:00, 18.82it/s]"
      }
     },
     "cb04afab60304257b7fba6a27f5985bf": {
      "model_module": "@jupyter-widgets/controls",
      "model_module_version": "1.5.0",
      "model_name": "HTMLModel",
      "state": {
       "_dom_classes": [],
       "_model_module": "@jupyter-widgets/controls",
       "_model_module_version": "1.5.0",
       "_model_name": "HTMLModel",
       "_view_count": null,
       "_view_module": "@jupyter-widgets/controls",
       "_view_module_version": "1.5.0",
       "_view_name": "HTMLView",
       "description": "",
       "description_tooltip": null,
       "layout": "IPY_MODEL_4d97def80a414026b1c617e3454a02eb",
       "placeholder": "​",
       "style": "IPY_MODEL_72c903af3ecd447f80568112a5fa424f",
       "value": "Generate report structure: 100%"
      }
     },
     "d61e27905c3a4896bb611c1fa8ef0772": {
      "model_module": "@jupyter-widgets/controls",
      "model_module_version": "1.5.0",
      "model_name": "DescriptionStyleModel",
      "state": {
       "_model_module": "@jupyter-widgets/controls",
       "_model_module_version": "1.5.0",
       "_model_name": "DescriptionStyleModel",
       "_view_count": null,
       "_view_module": "@jupyter-widgets/base",
       "_view_module_version": "1.2.0",
       "_view_name": "StyleView",
       "description_width": ""
      }
     },
     "d9914da4f3cb4239bea1aa2f28ed01aa": {
      "model_module": "@jupyter-widgets/controls",
      "model_module_version": "1.5.0",
      "model_name": "DescriptionStyleModel",
      "state": {
       "_model_module": "@jupyter-widgets/controls",
       "_model_module_version": "1.5.0",
       "_model_name": "DescriptionStyleModel",
       "_view_count": null,
       "_view_module": "@jupyter-widgets/base",
       "_view_module_version": "1.2.0",
       "_view_name": "StyleView",
       "description_width": ""
      }
     },
     "d9fcd0142e8f4e7097c30a4a8ee6b87a": {
      "model_module": "@jupyter-widgets/controls",
      "model_module_version": "1.5.0",
      "model_name": "ProgressStyleModel",
      "state": {
       "_model_module": "@jupyter-widgets/controls",
       "_model_module_version": "1.5.0",
       "_model_name": "ProgressStyleModel",
       "_view_count": null,
       "_view_module": "@jupyter-widgets/base",
       "_view_module_version": "1.2.0",
       "_view_name": "StyleView",
       "bar_color": null,
       "description_width": ""
      }
     },
     "e3b085019f4247a1ac0514e60ded7013": {
      "model_module": "@jupyter-widgets/base",
      "model_module_version": "1.2.0",
      "model_name": "LayoutModel",
      "state": {
       "_model_module": "@jupyter-widgets/base",
       "_model_module_version": "1.2.0",
       "_model_name": "LayoutModel",
       "_view_count": null,
       "_view_module": "@jupyter-widgets/base",
       "_view_module_version": "1.2.0",
       "_view_name": "LayoutView",
       "align_content": null,
       "align_items": null,
       "align_self": null,
       "border": null,
       "bottom": null,
       "display": null,
       "flex": null,
       "flex_flow": null,
       "grid_area": null,
       "grid_auto_columns": null,
       "grid_auto_flow": null,
       "grid_auto_rows": null,
       "grid_column": null,
       "grid_gap": null,
       "grid_row": null,
       "grid_template_areas": null,
       "grid_template_columns": null,
       "grid_template_rows": null,
       "height": null,
       "justify_content": null,
       "justify_items": null,
       "left": null,
       "margin": null,
       "max_height": null,
       "max_width": null,
       "min_height": null,
       "min_width": null,
       "object_fit": null,
       "object_position": null,
       "order": null,
       "overflow": null,
       "overflow_x": null,
       "overflow_y": null,
       "padding": null,
       "right": null,
       "top": null,
       "visibility": null,
       "width": null
      }
     },
     "ee13958fc6644037a029c74259cd749f": {
      "model_module": "@jupyter-widgets/base",
      "model_module_version": "1.2.0",
      "model_name": "LayoutModel",
      "state": {
       "_model_module": "@jupyter-widgets/base",
       "_model_module_version": "1.2.0",
       "_model_name": "LayoutModel",
       "_view_count": null,
       "_view_module": "@jupyter-widgets/base",
       "_view_module_version": "1.2.0",
       "_view_name": "LayoutView",
       "align_content": null,
       "align_items": null,
       "align_self": null,
       "border": null,
       "bottom": null,
       "display": null,
       "flex": null,
       "flex_flow": null,
       "grid_area": null,
       "grid_auto_columns": null,
       "grid_auto_flow": null,
       "grid_auto_rows": null,
       "grid_column": null,
       "grid_gap": null,
       "grid_row": null,
       "grid_template_areas": null,
       "grid_template_columns": null,
       "grid_template_rows": null,
       "height": null,
       "justify_content": null,
       "justify_items": null,
       "left": null,
       "margin": null,
       "max_height": null,
       "max_width": null,
       "min_height": null,
       "min_width": null,
       "object_fit": null,
       "object_position": null,
       "order": null,
       "overflow": null,
       "overflow_x": null,
       "overflow_y": null,
       "padding": null,
       "right": null,
       "top": null,
       "visibility": null,
       "width": null
      }
     },
     "f07220287e5a4346aea5800538b4ad30": {
      "model_module": "@jupyter-widgets/controls",
      "model_module_version": "1.5.0",
      "model_name": "DescriptionStyleModel",
      "state": {
       "_model_module": "@jupyter-widgets/controls",
       "_model_module_version": "1.5.0",
       "_model_name": "DescriptionStyleModel",
       "_view_count": null,
       "_view_module": "@jupyter-widgets/base",
       "_view_module_version": "1.2.0",
       "_view_name": "StyleView",
       "description_width": ""
      }
     },
     "fd5d640ae16e4dff9d10ad12d34859e7": {
      "model_module": "@jupyter-widgets/base",
      "model_module_version": "1.2.0",
      "model_name": "LayoutModel",
      "state": {
       "_model_module": "@jupyter-widgets/base",
       "_model_module_version": "1.2.0",
       "_model_name": "LayoutModel",
       "_view_count": null,
       "_view_module": "@jupyter-widgets/base",
       "_view_module_version": "1.2.0",
       "_view_name": "LayoutView",
       "align_content": null,
       "align_items": null,
       "align_self": null,
       "border": null,
       "bottom": null,
       "display": null,
       "flex": null,
       "flex_flow": null,
       "grid_area": null,
       "grid_auto_columns": null,
       "grid_auto_flow": null,
       "grid_auto_rows": null,
       "grid_column": null,
       "grid_gap": null,
       "grid_row": null,
       "grid_template_areas": null,
       "grid_template_columns": null,
       "grid_template_rows": null,
       "height": null,
       "justify_content": null,
       "justify_items": null,
       "left": null,
       "margin": null,
       "max_height": null,
       "max_width": null,
       "min_height": null,
       "min_width": null,
       "object_fit": null,
       "object_position": null,
       "order": null,
       "overflow": null,
       "overflow_x": null,
       "overflow_y": null,
       "padding": null,
       "right": null,
       "top": null,
       "visibility": null,
       "width": null
      }
     },
     "fd5f17b71c9346ccade0adce44b6787b": {
      "model_module": "@jupyter-widgets/base",
      "model_module_version": "1.2.0",
      "model_name": "LayoutModel",
      "state": {
       "_model_module": "@jupyter-widgets/base",
       "_model_module_version": "1.2.0",
       "_model_name": "LayoutModel",
       "_view_count": null,
       "_view_module": "@jupyter-widgets/base",
       "_view_module_version": "1.2.0",
       "_view_name": "LayoutView",
       "align_content": null,
       "align_items": null,
       "align_self": null,
       "border": null,
       "bottom": null,
       "display": null,
       "flex": null,
       "flex_flow": null,
       "grid_area": null,
       "grid_auto_columns": null,
       "grid_auto_flow": null,
       "grid_auto_rows": null,
       "grid_column": null,
       "grid_gap": null,
       "grid_row": null,
       "grid_template_areas": null,
       "grid_template_columns": null,
       "grid_template_rows": null,
       "height": null,
       "justify_content": null,
       "justify_items": null,
       "left": null,
       "margin": null,
       "max_height": null,
       "max_width": null,
       "min_height": null,
       "min_width": null,
       "object_fit": null,
       "object_position": null,
       "order": null,
       "overflow": null,
       "overflow_x": null,
       "overflow_y": null,
       "padding": null,
       "right": null,
       "top": null,
       "visibility": null,
       "width": null
      }
     }
    },
    "version_major": 2,
    "version_minor": 0
   }
  }
 },
 "nbformat": 4,
 "nbformat_minor": 5
}
